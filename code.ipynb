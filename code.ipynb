{
  "nbformat": 4,
  "nbformat_minor": 0,
  "metadata": {
    "colab": {
      "provenance": [],
      "authorship_tag": "ABX9TyPxDR3AXryTbVcA1YvlWmyE",
      "include_colab_link": true
    },
    "kernelspec": {
      "name": "python3",
      "display_name": "Python 3"
    },
    "language_info": {
      "name": "python"
    }
  },
  "cells": [
    {
      "cell_type": "markdown",
      "metadata": {
        "id": "view-in-github",
        "colab_type": "text"
      },
      "source": [
        "<a href=\"https://colab.research.google.com/github/Shi-Yile/SPH6004-Assignment-1/blob/main/code.ipynb\" target=\"_parent\"><img src=\"https://colab.research.google.com/assets/colab-badge.svg\" alt=\"Open In Colab\"/></a>"
      ]
    },
    {
      "cell_type": "code",
      "execution_count": 2,
      "metadata": {
        "id": "gj16LIS0tdAR"
      },
      "outputs": [],
      "source": [
        "# Import packages\n",
        "\n",
        "# Data-processing packages\n",
        "import pandas as pd\n",
        "import numpy as np\n",
        "\n",
        "# Plotting packages\n",
        "import matplotlib.pyplot as plt\n",
        "import seaborn as sn\n",
        "\n",
        "# ML packages\n",
        "import sklearn\n",
        "\n",
        "from sklearn.preprocessing import StandardScaler\n",
        "\n",
        "from sklearn.model_selection import train_test_split, cross_validate, GridSearchCV, StratifiedKFold, cross_val_score\n",
        "\n",
        "from sklearn.linear_model import LogisticRegression\n",
        "from sklearn.tree import DecisionTreeClassifier\n",
        "from xgboost import XGBClassifier\n",
        "from sklearn.svm import SVC\n",
        "\n",
        "from sklearn.metrics import roc_auc_score, roc_curve, classification_report, confusion_matrix, recall_score, accuracy_score\n",
        "\n",
        "\n",
        "import os\n",
        "from google.colab import drive"
      ]
    },
    {
      "cell_type": "code",
      "source": [
        "# give permission to load data from google drive\n",
        "drive.mount('/content/drive')\n",
        "os.chdir('drive/My Drive/SPH6004/Assignment-1')"
      ],
      "metadata": {
        "id": "2WqytuQ9yna8",
        "colab": {
          "base_uri": "https://localhost:8080/"
        },
        "outputId": "d0285194-a67c-45c9-8340-fc8e1adae0aa"
      },
      "execution_count": 3,
      "outputs": [
        {
          "output_type": "stream",
          "name": "stdout",
          "text": [
            "Drive already mounted at /content/drive; to attempt to forcibly remount, call drive.mount(\"/content/drive\", force_remount=True).\n"
          ]
        }
      ]
    },
    {
      "cell_type": "code",
      "source": [
        "# load dataset\n",
        "df = pd.read_csv('data.csv')\n",
        "df_origin = df.copy()\n",
        "df.head()"
      ],
      "metadata": {
        "colab": {
          "base_uri": "https://localhost:8080/",
          "height": 290
        },
        "id": "P__a7E4R2wUM",
        "outputId": "5e25d7d8-19c3-4301-fa35-248cf561c6b0"
      },
      "execution_count": 4,
      "outputs": [
        {
          "output_type": "execute_result",
          "data": {
            "text/plain": [
              "         id  aki gender  admission_age                    race  \\\n",
              "0  36570066    3      F      79.953141  BLACK/AFRICAN AMERICAN   \n",
              "1  39307659    0      F      78.194169         WHITE - RUSSIAN   \n",
              "2  38743306    2      F      65.602396                   WHITE   \n",
              "3  32339865    2      F      64.906629                 UNKNOWN   \n",
              "4  35526987    2      M      57.438861                   WHITE   \n",
              "\n",
              "   heart_rate_min  heart_rate_max  heart_rate_mean  sbp_min  sbp_max  ...  \\\n",
              "0            96.0           104.0       100.083333    103.0    126.0  ...   \n",
              "1            72.0           134.0        97.263158     97.0    127.0  ...   \n",
              "2            60.0            97.0        84.166667     95.0    143.0  ...   \n",
              "3            59.0            87.0        71.461538    113.0    150.0  ...   \n",
              "4            57.0           100.0        82.387097     81.0    127.0  ...   \n",
              "\n",
              "   ggt_max  ld_ldh_min  ld_ldh_max  gcs_min  gcs_motor  gcs_verbal  gcs_eyes  \\\n",
              "0      NaN       236.0       318.0     15.0        6.0         5.0       4.0   \n",
              "1      NaN         NaN         NaN     15.0        6.0         5.0       4.0   \n",
              "2      NaN         NaN         NaN     15.0        6.0         5.0       4.0   \n",
              "3      NaN         NaN         NaN     15.0        1.0         0.0       1.0   \n",
              "4      NaN         NaN         NaN     15.0        NaN         0.0       1.0   \n",
              "\n",
              "   gcs_unable  height  weight_admit  \n",
              "0         0.0   157.0         110.0  \n",
              "1         0.0     NaN          82.0  \n",
              "2         0.0     NaN          62.1  \n",
              "3         1.0   170.0         113.1  \n",
              "4         1.0   178.0          97.4  \n",
              "\n",
              "[5 rows x 162 columns]"
            ],
            "text/html": [
              "\n",
              "  <div id=\"df-17dfa398-8e42-4afa-aa82-4a36ac5bef11\" class=\"colab-df-container\">\n",
              "    <div>\n",
              "<style scoped>\n",
              "    .dataframe tbody tr th:only-of-type {\n",
              "        vertical-align: middle;\n",
              "    }\n",
              "\n",
              "    .dataframe tbody tr th {\n",
              "        vertical-align: top;\n",
              "    }\n",
              "\n",
              "    .dataframe thead th {\n",
              "        text-align: right;\n",
              "    }\n",
              "</style>\n",
              "<table border=\"1\" class=\"dataframe\">\n",
              "  <thead>\n",
              "    <tr style=\"text-align: right;\">\n",
              "      <th></th>\n",
              "      <th>id</th>\n",
              "      <th>aki</th>\n",
              "      <th>gender</th>\n",
              "      <th>admission_age</th>\n",
              "      <th>race</th>\n",
              "      <th>heart_rate_min</th>\n",
              "      <th>heart_rate_max</th>\n",
              "      <th>heart_rate_mean</th>\n",
              "      <th>sbp_min</th>\n",
              "      <th>sbp_max</th>\n",
              "      <th>...</th>\n",
              "      <th>ggt_max</th>\n",
              "      <th>ld_ldh_min</th>\n",
              "      <th>ld_ldh_max</th>\n",
              "      <th>gcs_min</th>\n",
              "      <th>gcs_motor</th>\n",
              "      <th>gcs_verbal</th>\n",
              "      <th>gcs_eyes</th>\n",
              "      <th>gcs_unable</th>\n",
              "      <th>height</th>\n",
              "      <th>weight_admit</th>\n",
              "    </tr>\n",
              "  </thead>\n",
              "  <tbody>\n",
              "    <tr>\n",
              "      <th>0</th>\n",
              "      <td>36570066</td>\n",
              "      <td>3</td>\n",
              "      <td>F</td>\n",
              "      <td>79.953141</td>\n",
              "      <td>BLACK/AFRICAN AMERICAN</td>\n",
              "      <td>96.0</td>\n",
              "      <td>104.0</td>\n",
              "      <td>100.083333</td>\n",
              "      <td>103.0</td>\n",
              "      <td>126.0</td>\n",
              "      <td>...</td>\n",
              "      <td>NaN</td>\n",
              "      <td>236.0</td>\n",
              "      <td>318.0</td>\n",
              "      <td>15.0</td>\n",
              "      <td>6.0</td>\n",
              "      <td>5.0</td>\n",
              "      <td>4.0</td>\n",
              "      <td>0.0</td>\n",
              "      <td>157.0</td>\n",
              "      <td>110.0</td>\n",
              "    </tr>\n",
              "    <tr>\n",
              "      <th>1</th>\n",
              "      <td>39307659</td>\n",
              "      <td>0</td>\n",
              "      <td>F</td>\n",
              "      <td>78.194169</td>\n",
              "      <td>WHITE - RUSSIAN</td>\n",
              "      <td>72.0</td>\n",
              "      <td>134.0</td>\n",
              "      <td>97.263158</td>\n",
              "      <td>97.0</td>\n",
              "      <td>127.0</td>\n",
              "      <td>...</td>\n",
              "      <td>NaN</td>\n",
              "      <td>NaN</td>\n",
              "      <td>NaN</td>\n",
              "      <td>15.0</td>\n",
              "      <td>6.0</td>\n",
              "      <td>5.0</td>\n",
              "      <td>4.0</td>\n",
              "      <td>0.0</td>\n",
              "      <td>NaN</td>\n",
              "      <td>82.0</td>\n",
              "    </tr>\n",
              "    <tr>\n",
              "      <th>2</th>\n",
              "      <td>38743306</td>\n",
              "      <td>2</td>\n",
              "      <td>F</td>\n",
              "      <td>65.602396</td>\n",
              "      <td>WHITE</td>\n",
              "      <td>60.0</td>\n",
              "      <td>97.0</td>\n",
              "      <td>84.166667</td>\n",
              "      <td>95.0</td>\n",
              "      <td>143.0</td>\n",
              "      <td>...</td>\n",
              "      <td>NaN</td>\n",
              "      <td>NaN</td>\n",
              "      <td>NaN</td>\n",
              "      <td>15.0</td>\n",
              "      <td>6.0</td>\n",
              "      <td>5.0</td>\n",
              "      <td>4.0</td>\n",
              "      <td>0.0</td>\n",
              "      <td>NaN</td>\n",
              "      <td>62.1</td>\n",
              "    </tr>\n",
              "    <tr>\n",
              "      <th>3</th>\n",
              "      <td>32339865</td>\n",
              "      <td>2</td>\n",
              "      <td>F</td>\n",
              "      <td>64.906629</td>\n",
              "      <td>UNKNOWN</td>\n",
              "      <td>59.0</td>\n",
              "      <td>87.0</td>\n",
              "      <td>71.461538</td>\n",
              "      <td>113.0</td>\n",
              "      <td>150.0</td>\n",
              "      <td>...</td>\n",
              "      <td>NaN</td>\n",
              "      <td>NaN</td>\n",
              "      <td>NaN</td>\n",
              "      <td>15.0</td>\n",
              "      <td>1.0</td>\n",
              "      <td>0.0</td>\n",
              "      <td>1.0</td>\n",
              "      <td>1.0</td>\n",
              "      <td>170.0</td>\n",
              "      <td>113.1</td>\n",
              "    </tr>\n",
              "    <tr>\n",
              "      <th>4</th>\n",
              "      <td>35526987</td>\n",
              "      <td>2</td>\n",
              "      <td>M</td>\n",
              "      <td>57.438861</td>\n",
              "      <td>WHITE</td>\n",
              "      <td>57.0</td>\n",
              "      <td>100.0</td>\n",
              "      <td>82.387097</td>\n",
              "      <td>81.0</td>\n",
              "      <td>127.0</td>\n",
              "      <td>...</td>\n",
              "      <td>NaN</td>\n",
              "      <td>NaN</td>\n",
              "      <td>NaN</td>\n",
              "      <td>15.0</td>\n",
              "      <td>NaN</td>\n",
              "      <td>0.0</td>\n",
              "      <td>1.0</td>\n",
              "      <td>1.0</td>\n",
              "      <td>178.0</td>\n",
              "      <td>97.4</td>\n",
              "    </tr>\n",
              "  </tbody>\n",
              "</table>\n",
              "<p>5 rows × 162 columns</p>\n",
              "</div>\n",
              "    <div class=\"colab-df-buttons\">\n",
              "\n",
              "  <div class=\"colab-df-container\">\n",
              "    <button class=\"colab-df-convert\" onclick=\"convertToInteractive('df-17dfa398-8e42-4afa-aa82-4a36ac5bef11')\"\n",
              "            title=\"Convert this dataframe to an interactive table.\"\n",
              "            style=\"display:none;\">\n",
              "\n",
              "  <svg xmlns=\"http://www.w3.org/2000/svg\" height=\"24px\" viewBox=\"0 -960 960 960\">\n",
              "    <path d=\"M120-120v-720h720v720H120Zm60-500h600v-160H180v160Zm220 220h160v-160H400v160Zm0 220h160v-160H400v160ZM180-400h160v-160H180v160Zm440 0h160v-160H620v160ZM180-180h160v-160H180v160Zm440 0h160v-160H620v160Z\"/>\n",
              "  </svg>\n",
              "    </button>\n",
              "\n",
              "  <style>\n",
              "    .colab-df-container {\n",
              "      display:flex;\n",
              "      gap: 12px;\n",
              "    }\n",
              "\n",
              "    .colab-df-convert {\n",
              "      background-color: #E8F0FE;\n",
              "      border: none;\n",
              "      border-radius: 50%;\n",
              "      cursor: pointer;\n",
              "      display: none;\n",
              "      fill: #1967D2;\n",
              "      height: 32px;\n",
              "      padding: 0 0 0 0;\n",
              "      width: 32px;\n",
              "    }\n",
              "\n",
              "    .colab-df-convert:hover {\n",
              "      background-color: #E2EBFA;\n",
              "      box-shadow: 0px 1px 2px rgba(60, 64, 67, 0.3), 0px 1px 3px 1px rgba(60, 64, 67, 0.15);\n",
              "      fill: #174EA6;\n",
              "    }\n",
              "\n",
              "    .colab-df-buttons div {\n",
              "      margin-bottom: 4px;\n",
              "    }\n",
              "\n",
              "    [theme=dark] .colab-df-convert {\n",
              "      background-color: #3B4455;\n",
              "      fill: #D2E3FC;\n",
              "    }\n",
              "\n",
              "    [theme=dark] .colab-df-convert:hover {\n",
              "      background-color: #434B5C;\n",
              "      box-shadow: 0px 1px 3px 1px rgba(0, 0, 0, 0.15);\n",
              "      filter: drop-shadow(0px 1px 2px rgba(0, 0, 0, 0.3));\n",
              "      fill: #FFFFFF;\n",
              "    }\n",
              "  </style>\n",
              "\n",
              "    <script>\n",
              "      const buttonEl =\n",
              "        document.querySelector('#df-17dfa398-8e42-4afa-aa82-4a36ac5bef11 button.colab-df-convert');\n",
              "      buttonEl.style.display =\n",
              "        google.colab.kernel.accessAllowed ? 'block' : 'none';\n",
              "\n",
              "      async function convertToInteractive(key) {\n",
              "        const element = document.querySelector('#df-17dfa398-8e42-4afa-aa82-4a36ac5bef11');\n",
              "        const dataTable =\n",
              "          await google.colab.kernel.invokeFunction('convertToInteractive',\n",
              "                                                    [key], {});\n",
              "        if (!dataTable) return;\n",
              "\n",
              "        const docLinkHtml = 'Like what you see? Visit the ' +\n",
              "          '<a target=\"_blank\" href=https://colab.research.google.com/notebooks/data_table.ipynb>data table notebook</a>'\n",
              "          + ' to learn more about interactive tables.';\n",
              "        element.innerHTML = '';\n",
              "        dataTable['output_type'] = 'display_data';\n",
              "        await google.colab.output.renderOutput(dataTable, element);\n",
              "        const docLink = document.createElement('div');\n",
              "        docLink.innerHTML = docLinkHtml;\n",
              "        element.appendChild(docLink);\n",
              "      }\n",
              "    </script>\n",
              "  </div>\n",
              "\n",
              "\n",
              "<div id=\"df-0bb13428-e2cd-4578-a57b-2d5d93597842\">\n",
              "  <button class=\"colab-df-quickchart\" onclick=\"quickchart('df-0bb13428-e2cd-4578-a57b-2d5d93597842')\"\n",
              "            title=\"Suggest charts\"\n",
              "            style=\"display:none;\">\n",
              "\n",
              "<svg xmlns=\"http://www.w3.org/2000/svg\" height=\"24px\"viewBox=\"0 0 24 24\"\n",
              "     width=\"24px\">\n",
              "    <g>\n",
              "        <path d=\"M19 3H5c-1.1 0-2 .9-2 2v14c0 1.1.9 2 2 2h14c1.1 0 2-.9 2-2V5c0-1.1-.9-2-2-2zM9 17H7v-7h2v7zm4 0h-2V7h2v10zm4 0h-2v-4h2v4z\"/>\n",
              "    </g>\n",
              "</svg>\n",
              "  </button>\n",
              "\n",
              "<style>\n",
              "  .colab-df-quickchart {\n",
              "      --bg-color: #E8F0FE;\n",
              "      --fill-color: #1967D2;\n",
              "      --hover-bg-color: #E2EBFA;\n",
              "      --hover-fill-color: #174EA6;\n",
              "      --disabled-fill-color: #AAA;\n",
              "      --disabled-bg-color: #DDD;\n",
              "  }\n",
              "\n",
              "  [theme=dark] .colab-df-quickchart {\n",
              "      --bg-color: #3B4455;\n",
              "      --fill-color: #D2E3FC;\n",
              "      --hover-bg-color: #434B5C;\n",
              "      --hover-fill-color: #FFFFFF;\n",
              "      --disabled-bg-color: #3B4455;\n",
              "      --disabled-fill-color: #666;\n",
              "  }\n",
              "\n",
              "  .colab-df-quickchart {\n",
              "    background-color: var(--bg-color);\n",
              "    border: none;\n",
              "    border-radius: 50%;\n",
              "    cursor: pointer;\n",
              "    display: none;\n",
              "    fill: var(--fill-color);\n",
              "    height: 32px;\n",
              "    padding: 0;\n",
              "    width: 32px;\n",
              "  }\n",
              "\n",
              "  .colab-df-quickchart:hover {\n",
              "    background-color: var(--hover-bg-color);\n",
              "    box-shadow: 0 1px 2px rgba(60, 64, 67, 0.3), 0 1px 3px 1px rgba(60, 64, 67, 0.15);\n",
              "    fill: var(--button-hover-fill-color);\n",
              "  }\n",
              "\n",
              "  .colab-df-quickchart-complete:disabled,\n",
              "  .colab-df-quickchart-complete:disabled:hover {\n",
              "    background-color: var(--disabled-bg-color);\n",
              "    fill: var(--disabled-fill-color);\n",
              "    box-shadow: none;\n",
              "  }\n",
              "\n",
              "  .colab-df-spinner {\n",
              "    border: 2px solid var(--fill-color);\n",
              "    border-color: transparent;\n",
              "    border-bottom-color: var(--fill-color);\n",
              "    animation:\n",
              "      spin 1s steps(1) infinite;\n",
              "  }\n",
              "\n",
              "  @keyframes spin {\n",
              "    0% {\n",
              "      border-color: transparent;\n",
              "      border-bottom-color: var(--fill-color);\n",
              "      border-left-color: var(--fill-color);\n",
              "    }\n",
              "    20% {\n",
              "      border-color: transparent;\n",
              "      border-left-color: var(--fill-color);\n",
              "      border-top-color: var(--fill-color);\n",
              "    }\n",
              "    30% {\n",
              "      border-color: transparent;\n",
              "      border-left-color: var(--fill-color);\n",
              "      border-top-color: var(--fill-color);\n",
              "      border-right-color: var(--fill-color);\n",
              "    }\n",
              "    40% {\n",
              "      border-color: transparent;\n",
              "      border-right-color: var(--fill-color);\n",
              "      border-top-color: var(--fill-color);\n",
              "    }\n",
              "    60% {\n",
              "      border-color: transparent;\n",
              "      border-right-color: var(--fill-color);\n",
              "    }\n",
              "    80% {\n",
              "      border-color: transparent;\n",
              "      border-right-color: var(--fill-color);\n",
              "      border-bottom-color: var(--fill-color);\n",
              "    }\n",
              "    90% {\n",
              "      border-color: transparent;\n",
              "      border-bottom-color: var(--fill-color);\n",
              "    }\n",
              "  }\n",
              "</style>\n",
              "\n",
              "  <script>\n",
              "    async function quickchart(key) {\n",
              "      const quickchartButtonEl =\n",
              "        document.querySelector('#' + key + ' button');\n",
              "      quickchartButtonEl.disabled = true;  // To prevent multiple clicks.\n",
              "      quickchartButtonEl.classList.add('colab-df-spinner');\n",
              "      try {\n",
              "        const charts = await google.colab.kernel.invokeFunction(\n",
              "            'suggestCharts', [key], {});\n",
              "      } catch (error) {\n",
              "        console.error('Error during call to suggestCharts:', error);\n",
              "      }\n",
              "      quickchartButtonEl.classList.remove('colab-df-spinner');\n",
              "      quickchartButtonEl.classList.add('colab-df-quickchart-complete');\n",
              "    }\n",
              "    (() => {\n",
              "      let quickchartButtonEl =\n",
              "        document.querySelector('#df-0bb13428-e2cd-4578-a57b-2d5d93597842 button');\n",
              "      quickchartButtonEl.style.display =\n",
              "        google.colab.kernel.accessAllowed ? 'block' : 'none';\n",
              "    })();\n",
              "  </script>\n",
              "</div>\n",
              "\n",
              "    </div>\n",
              "  </div>\n"
            ],
            "application/vnd.google.colaboratory.intrinsic+json": {
              "type": "dataframe",
              "variable_name": "df"
            }
          },
          "metadata": {},
          "execution_count": 4
        }
      ]
    },
    {
      "cell_type": "code",
      "source": [
        "# basic infomration of each column in df\n",
        "df.info(verbose = True, null_counts = True)"
      ],
      "metadata": {
        "colab": {
          "base_uri": "https://localhost:8080/"
        },
        "id": "l3NRb_-n25Zx",
        "outputId": "db831a25-2eed-46c0-802e-28bf62cc660f"
      },
      "execution_count": 5,
      "outputs": [
        {
          "output_type": "stream",
          "name": "stdout",
          "text": [
            "<class 'pandas.core.frame.DataFrame'>\n",
            "RangeIndex: 50920 entries, 0 to 50919\n",
            "Data columns (total 162 columns):\n",
            " #    Column                  Non-Null Count  Dtype  \n",
            "---   ------                  --------------  -----  \n",
            " 0    id                      50920 non-null  int64  \n",
            " 1    aki                     50920 non-null  int64  \n",
            " 2    gender                  50920 non-null  object \n",
            " 3    admission_age           50920 non-null  float64\n",
            " 4    race                    50920 non-null  object \n",
            " 5    heart_rate_min          50841 non-null  float64\n",
            " 6    heart_rate_max          50841 non-null  float64\n",
            " 7    heart_rate_mean         50841 non-null  float64\n",
            " 8    sbp_min                 50823 non-null  float64\n",
            " 9    sbp_max                 50823 non-null  float64\n",
            " 10   sbp_mean                50823 non-null  float64\n",
            " 11   dbp_min                 50823 non-null  float64\n",
            " 12   dbp_max                 50823 non-null  float64\n",
            " 13   dbp_mean                50823 non-null  float64\n",
            " 14   mbp_min                 50805 non-null  float64\n",
            " 15   mbp_max                 50805 non-null  float64\n",
            " 16   mbp_mean                50805 non-null  float64\n",
            " 17   resp_rate_min           50777 non-null  float64\n",
            " 18   resp_rate_max           50777 non-null  float64\n",
            " 19   resp_rate_mean          50777 non-null  float64\n",
            " 20   temperature_min         49279 non-null  float64\n",
            " 21   temperature_max         49279 non-null  float64\n",
            " 22   temperature_mean        49279 non-null  float64\n",
            " 23   spo2_min                50797 non-null  float64\n",
            " 24   spo2_max                50797 non-null  float64\n",
            " 25   spo2_mean               50797 non-null  float64\n",
            " 26   glucose_min             49746 non-null  float64\n",
            " 27   glucose_max             49746 non-null  float64\n",
            " 28   glucose_mean            49746 non-null  float64\n",
            " 29   lactate_min             27161 non-null  float64\n",
            " 30   lactate_max             27161 non-null  float64\n",
            " 31   ph_min                  31172 non-null  float64\n",
            " 32   ph_max                  31172 non-null  float64\n",
            " 33   so2_min                 15699 non-null  float64\n",
            " 34   so2_max                 15699 non-null  float64\n",
            " 35   po2_min                 31177 non-null  float64\n",
            " 36   po2_max                 31177 non-null  float64\n",
            " 37   pco2_min                31176 non-null  float64\n",
            " 38   pco2_max                31176 non-null  float64\n",
            " 39   aado2_min               3492 non-null   float64\n",
            " 40   aado2_max               3492 non-null   float64\n",
            " 41   aado2_calc_min          21085 non-null  float64\n",
            " 42   aado2_calc_max          21085 non-null  float64\n",
            " 43   pao2fio2ratio_min       21085 non-null  float64\n",
            " 44   pao2fio2ratio_max       21085 non-null  float64\n",
            " 45   baseexcess_min          31176 non-null  float64\n",
            " 46   baseexcess_max          31176 non-null  float64\n",
            " 47   bicarbonate_min         849 non-null    float64\n",
            " 48   bicarbonate_max         849 non-null    float64\n",
            " 49   totalco2_min            31176 non-null  float64\n",
            " 50   totalco2_max            31176 non-null  float64\n",
            " 51   hematocrit_min          14215 non-null  float64\n",
            " 52   hematocrit_max          14215 non-null  float64\n",
            " 53   hemoglobin_min          14215 non-null  float64\n",
            " 54   hemoglobin_max          14215 non-null  float64\n",
            " 55   carboxyhemoglobin_min   1196 non-null   float64\n",
            " 56   carboxyhemoglobin_max   1196 non-null   float64\n",
            " 57   methemoglobin_min       1100 non-null   float64\n",
            " 58   methemoglobin_max       1100 non-null   float64\n",
            " 59   temperature_min.1       9692 non-null   float64\n",
            " 60   temperature_max.1       9692 non-null   float64\n",
            " 61   chloride_min            14126 non-null  float64\n",
            " 62   chloride_max            14126 non-null  float64\n",
            " 63   calcium_min             20163 non-null  float64\n",
            " 64   calcium_max             20163 non-null  float64\n",
            " 65   glucose_min.1           16234 non-null  float64\n",
            " 66   glucose_max.1           16234 non-null  float64\n",
            " 67   potassium_min           16783 non-null  float64\n",
            " 68   potassium_max           16783 non-null  float64\n",
            " 69   sodium_min              14742 non-null  float64\n",
            " 70   sodium_max              14742 non-null  float64\n",
            " 71   hematocrit_min.1        50482 non-null  float64\n",
            " 72   hematocrit_max.1        50482 non-null  float64\n",
            " 73   hemoglobin_min.1        50439 non-null  float64\n",
            " 74   hemoglobin_max.1        50439 non-null  float64\n",
            " 75   platelets_min           50447 non-null  float64\n",
            " 76   platelets_max           50447 non-null  float64\n",
            " 77   wbc_min                 50446 non-null  float64\n",
            " 78   wbc_max                 50446 non-null  float64\n",
            " 79   albumin_min             19156 non-null  float64\n",
            " 80   albumin_max             19156 non-null  float64\n",
            " 81   globulin_min            685 non-null    float64\n",
            " 82   globulin_max            685 non-null    float64\n",
            " 83   total_protein_min       1159 non-null   float64\n",
            " 84   total_protein_max       1159 non-null   float64\n",
            " 85   aniongap_min            50258 non-null  float64\n",
            " 86   aniongap_max            50258 non-null  float64\n",
            " 87   bicarbonate_min.1       50309 non-null  float64\n",
            " 88   bicarbonate_max.1       50309 non-null  float64\n",
            " 89   bun_min                 50510 non-null  float64\n",
            " 90   bun_max                 50510 non-null  float64\n",
            " 91   calcium_min.1           46028 non-null  float64\n",
            " 92   calcium_max.1           46028 non-null  float64\n",
            " 93   chloride_min.1          50321 non-null  float64\n",
            " 94   chloride_max.1          50321 non-null  float64\n",
            " 95   glucose_min.2           50132 non-null  float64\n",
            " 96   glucose_max.2           50132 non-null  float64\n",
            " 97   sodium_min.1            50318 non-null  float64\n",
            " 98   sodium_max.1            50318 non-null  float64\n",
            " 99   potassium_min.1         50290 non-null  float64\n",
            " 100  potassium_max.1         50290 non-null  float64\n",
            " 101  abs_basophils_min       30825 non-null  float64\n",
            " 102  abs_basophils_max       30825 non-null  float64\n",
            " 103  abs_eosinophils_min     30826 non-null  float64\n",
            " 104  abs_eosinophils_max     30826 non-null  float64\n",
            " 105  abs_lymphocytes_min     30838 non-null  float64\n",
            " 106  abs_lymphocytes_max     30838 non-null  float64\n",
            " 107  abs_monocytes_min       30825 non-null  float64\n",
            " 108  abs_monocytes_max       30825 non-null  float64\n",
            " 109  abs_neutrophils_min     30826 non-null  float64\n",
            " 110  abs_neutrophils_max     30826 non-null  float64\n",
            " 111  atyps_min               5896 non-null   float64\n",
            " 112  atyps_max               5896 non-null   float64\n",
            " 113  bands_min               6493 non-null   float64\n",
            " 114  bands_max               6493 non-null   float64\n",
            " 115  imm_granulocytes_min    11001 non-null  float64\n",
            " 116  imm_granulocytes_max    11001 non-null  float64\n",
            " 117  metas_min               6006 non-null   float64\n",
            " 118  metas_max               6006 non-null   float64\n",
            " 119  nrbc_min                2105 non-null   float64\n",
            " 120  nrbc_max                2105 non-null   float64\n",
            " 121  d_dimer_min             109 non-null    float64\n",
            " 122  d_dimer_max             109 non-null    float64\n",
            " 123  fibrinogen_min          14918 non-null  float64\n",
            " 124  fibrinogen_max          14918 non-null  float64\n",
            " 125  thrombin_min            91 non-null     float64\n",
            " 126  thrombin_max            91 non-null     float64\n",
            " 127  inr_min                 45848 non-null  float64\n",
            " 128  inr_max                 45848 non-null  float64\n",
            " 129  pt_min                  45849 non-null  float64\n",
            " 130  pt_max                  45849 non-null  float64\n",
            " 131  ptt_min                 45576 non-null  float64\n",
            " 132  ptt_max                 45576 non-null  float64\n",
            " 133  alt_min                 25093 non-null  float64\n",
            " 134  alt_max                 25093 non-null  float64\n",
            " 135  alp_min                 24909 non-null  float64\n",
            " 136  alp_max                 24909 non-null  float64\n",
            " 137  ast_min                 25190 non-null  float64\n",
            " 138  ast_max                 25190 non-null  float64\n",
            " 139  amylase_min             3313 non-null   float64\n",
            " 140  amylase_max             3313 non-null   float64\n",
            " 141  bilirubin_total_min     24883 non-null  float64\n",
            " 142  bilirubin_total_max     24883 non-null  float64\n",
            " 143  bilirubin_direct_min    2192 non-null   float64\n",
            " 144  bilirubin_direct_max    2192 non-null   float64\n",
            " 145  bilirubin_indirect_min  2097 non-null   float64\n",
            " 146  bilirubin_indirect_max  2097 non-null   float64\n",
            " 147  ck_cpk_min              15885 non-null  float64\n",
            " 148  ck_cpk_max              15885 non-null  float64\n",
            " 149  ck_mb_min               14633 non-null  float64\n",
            " 150  ck_mb_max               14633 non-null  float64\n",
            " 151  ggt_min                 472 non-null    float64\n",
            " 152  ggt_max                 472 non-null    float64\n",
            " 153  ld_ldh_min              14689 non-null  float64\n",
            " 154  ld_ldh_max              14689 non-null  float64\n",
            " 155  gcs_min                 50685 non-null  float64\n",
            " 156  gcs_motor               50266 non-null  float64\n",
            " 157  gcs_verbal              50407 non-null  float64\n",
            " 158  gcs_eyes                50542 non-null  float64\n",
            " 159  gcs_unable              50685 non-null  float64\n",
            " 160  height                  25011 non-null  float64\n",
            " 161  weight_admit            49900 non-null  float64\n",
            "dtypes: float64(158), int64(2), object(2)\n",
            "memory usage: 62.9+ MB\n"
          ]
        },
        {
          "output_type": "stream",
          "name": "stderr",
          "text": [
            "<ipython-input-5-1fc94d2bc7dc>:2: FutureWarning: null_counts is deprecated. Use show_counts instead\n",
            "  df.info(verbose = True, null_counts = True)\n"
          ]
        }
      ]
    },
    {
      "cell_type": "code",
      "source": [
        "# calculate the proportion of NAs in each column\n",
        "df_NA_prop = 1 - df.count() / len(df)\n",
        "idx_NA10 = df_NA_prop[df_NA_prop <= 0.1].index\n",
        "idx_NA50 = df_NA_prop[df_NA_prop <= 0.5].index\n",
        "# idx_NA10\n",
        "\n",
        "# extract a subset of df with columns including NAs less than 10%\n",
        "df_sub_NA10 = df[idx_NA10]\n",
        "# df_sub_NA10.info()\n",
        "\n",
        "#  drop rows with NAs\n",
        "df_sub_com10 = df_sub_NA10.dropna()\n",
        "# df_sub_com10.info()"
      ],
      "metadata": {
        "colab": {
          "base_uri": "https://localhost:8080/"
        },
        "id": "0eiEJ4ng4EtK",
        "outputId": "868f0cf7-42c2-42ef-891d-c24c9b2e4eb0"
      },
      "execution_count": 6,
      "outputs": [
        {
          "output_type": "stream",
          "name": "stdout",
          "text": [
            "<class 'pandas.core.frame.DataFrame'>\n",
            "Int64Index: 38631 entries, 0 to 50918\n",
            "Data columns (total 63 columns):\n",
            " #   Column             Non-Null Count  Dtype  \n",
            "---  ------             --------------  -----  \n",
            " 0   id                 38631 non-null  int64  \n",
            " 1   aki                38631 non-null  int64  \n",
            " 2   gender             38631 non-null  object \n",
            " 3   admission_age      38631 non-null  float64\n",
            " 4   race               38631 non-null  object \n",
            " 5   heart_rate_min     38631 non-null  float64\n",
            " 6   heart_rate_max     38631 non-null  float64\n",
            " 7   heart_rate_mean    38631 non-null  float64\n",
            " 8   sbp_min            38631 non-null  float64\n",
            " 9   sbp_max            38631 non-null  float64\n",
            " 10  sbp_mean           38631 non-null  float64\n",
            " 11  dbp_min            38631 non-null  float64\n",
            " 12  dbp_max            38631 non-null  float64\n",
            " 13  dbp_mean           38631 non-null  float64\n",
            " 14  mbp_min            38631 non-null  float64\n",
            " 15  mbp_max            38631 non-null  float64\n",
            " 16  mbp_mean           38631 non-null  float64\n",
            " 17  resp_rate_min      38631 non-null  float64\n",
            " 18  resp_rate_max      38631 non-null  float64\n",
            " 19  resp_rate_mean     38631 non-null  float64\n",
            " 20  temperature_min    38631 non-null  float64\n",
            " 21  temperature_max    38631 non-null  float64\n",
            " 22  temperature_mean   38631 non-null  float64\n",
            " 23  spo2_min           38631 non-null  float64\n",
            " 24  spo2_max           38631 non-null  float64\n",
            " 25  spo2_mean          38631 non-null  float64\n",
            " 26  glucose_min        38631 non-null  float64\n",
            " 27  glucose_max        38631 non-null  float64\n",
            " 28  glucose_mean       38631 non-null  float64\n",
            " 29  hematocrit_min.1   38631 non-null  float64\n",
            " 30  hematocrit_max.1   38631 non-null  float64\n",
            " 31  hemoglobin_min.1   38631 non-null  float64\n",
            " 32  hemoglobin_max.1   38631 non-null  float64\n",
            " 33  platelets_min      38631 non-null  float64\n",
            " 34  platelets_max      38631 non-null  float64\n",
            " 35  wbc_min            38631 non-null  float64\n",
            " 36  wbc_max            38631 non-null  float64\n",
            " 37  aniongap_min       38631 non-null  float64\n",
            " 38  aniongap_max       38631 non-null  float64\n",
            " 39  bicarbonate_min.1  38631 non-null  float64\n",
            " 40  bicarbonate_max.1  38631 non-null  float64\n",
            " 41  bun_min            38631 non-null  float64\n",
            " 42  bun_max            38631 non-null  float64\n",
            " 43  calcium_min.1      38631 non-null  float64\n",
            " 44  calcium_max.1      38631 non-null  float64\n",
            " 45  chloride_min.1     38631 non-null  float64\n",
            " 46  chloride_max.1     38631 non-null  float64\n",
            " 47  glucose_min.2      38631 non-null  float64\n",
            " 48  glucose_max.2      38631 non-null  float64\n",
            " 49  sodium_min.1       38631 non-null  float64\n",
            " 50  sodium_max.1       38631 non-null  float64\n",
            " 51  potassium_min.1    38631 non-null  float64\n",
            " 52  potassium_max.1    38631 non-null  float64\n",
            " 53  inr_min            38631 non-null  float64\n",
            " 54  inr_max            38631 non-null  float64\n",
            " 55  pt_min             38631 non-null  float64\n",
            " 56  pt_max             38631 non-null  float64\n",
            " 57  gcs_min            38631 non-null  float64\n",
            " 58  gcs_motor          38631 non-null  float64\n",
            " 59  gcs_verbal         38631 non-null  float64\n",
            " 60  gcs_eyes           38631 non-null  float64\n",
            " 61  gcs_unable         38631 non-null  float64\n",
            " 62  weight_admit       38631 non-null  float64\n",
            "dtypes: float64(59), int64(2), object(2)\n",
            "memory usage: 18.9+ MB\n"
          ]
        }
      ]
    },
    {
      "cell_type": "code",
      "source": [
        "# frequencies in 'race'\n",
        "df_sub_com10['race'].value_counts()"
      ],
      "metadata": {
        "colab": {
          "base_uri": "https://localhost:8080/"
        },
        "id": "1E3NkmDU_-x1",
        "outputId": "6bd9b9df-86e0-42df-9778-6421e74ccd25"
      },
      "execution_count": 7,
      "outputs": [
        {
          "output_type": "execute_result",
          "data": {
            "text/plain": [
              "WHITE                                        24528\n",
              "UNKNOWN                                       4525\n",
              "BLACK/AFRICAN AMERICAN                        2874\n",
              "OTHER                                         1345\n",
              "WHITE - OTHER EUROPEAN                         702\n",
              "UNABLE TO OBTAIN                               515\n",
              "ASIAN                                          472\n",
              "HISPANIC/LATINO - PUERTO RICAN                 409\n",
              "ASIAN - CHINESE                                406\n",
              "HISPANIC OR LATINO                             362\n",
              "WHITE - RUSSIAN                                330\n",
              "HISPANIC/LATINO - DOMINICAN                    253\n",
              "PATIENT DECLINED TO ANSWER                     252\n",
              "BLACK/CAPE VERDEAN                             239\n",
              "BLACK/CARIBBEAN ISLAND                         216\n",
              "BLACK/AFRICAN                                  154\n",
              "ASIAN - SOUTH EAST ASIAN                       136\n",
              "PORTUGUESE                                     123\n",
              "WHITE - EASTERN EUROPEAN                       101\n",
              "ASIAN - ASIAN INDIAN                            87\n",
              "HISPANIC/LATINO - GUATEMALAN                    84\n",
              "WHITE - BRAZILIAN                               80\n",
              "AMERICAN INDIAN/ALASKA NATIVE                   70\n",
              "NATIVE HAWAIIAN OR OTHER PACIFIC ISLANDER       63\n",
              "HISPANIC/LATINO - SALVADORAN                    57\n",
              "HISPANIC/LATINO - MEXICAN                       41\n",
              "MULTIPLE RACE/ETHNICITY                         39\n",
              "ASIAN - KOREAN                                  37\n",
              "SOUTH AMERICAN                                  32\n",
              "HISPANIC/LATINO - CUBAN                         28\n",
              "HISPANIC/LATINO - HONDURAN                      27\n",
              "HISPANIC/LATINO - COLUMBIAN                     25\n",
              "HISPANIC/LATINO - CENTRAL AMERICAN              19\n",
              "Name: race, dtype: int64"
            ]
          },
          "metadata": {},
          "execution_count": 7
        }
      ]
    },
    {
      "cell_type": "code",
      "source": [
        "# frequencies in 'gender'\n",
        "df_sub_com10['gender'].value_counts()"
      ],
      "metadata": {
        "colab": {
          "base_uri": "https://localhost:8080/"
        },
        "id": "1mi6JLpTFGib",
        "outputId": "c477d1c9-2df2-4bc0-96e7-a79fe2d5c8de"
      },
      "execution_count": 8,
      "outputs": [
        {
          "output_type": "execute_result",
          "data": {
            "text/plain": [
              "M    21509\n",
              "F    17122\n",
              "Name: gender, dtype: int64"
            ]
          },
          "metadata": {},
          "execution_count": 8
        }
      ]
    },
    {
      "cell_type": "code",
      "source": [
        "# recode gender as 0-1  0: male, 1: female\n",
        "df_sub_com10['gender_'] = df_sub_com10['gender'].apply(lambda x:int(x == 'F'))\n",
        "df_sub_com10['gender_'].value_counts()"
      ],
      "metadata": {
        "colab": {
          "base_uri": "https://localhost:8080/"
        },
        "id": "zIL85jpsEsAR",
        "outputId": "f6bcb3b3-1669-4afd-c928-092f2059a289"
      },
      "execution_count": 9,
      "outputs": [
        {
          "output_type": "stream",
          "name": "stderr",
          "text": [
            "<ipython-input-9-cb853011f4dc>:2: SettingWithCopyWarning: \n",
            "A value is trying to be set on a copy of a slice from a DataFrame.\n",
            "Try using .loc[row_indexer,col_indexer] = value instead\n",
            "\n",
            "See the caveats in the documentation: https://pandas.pydata.org/pandas-docs/stable/user_guide/indexing.html#returning-a-view-versus-a-copy\n",
            "  df_sub_com10['gender_'] = df_sub_com10['gender'].apply(lambda x:int(x == 'F'))\n"
          ]
        },
        {
          "output_type": "execute_result",
          "data": {
            "text/plain": [
              "0    21509\n",
              "1    17122\n",
              "Name: gender_, dtype: int64"
            ]
          },
          "metadata": {},
          "execution_count": 9
        }
      ]
    },
    {
      "cell_type": "code",
      "source": [
        "# frequencies in 'aki'\n",
        "df_sub_com10['aki'].value_counts()"
      ],
      "metadata": {
        "colab": {
          "base_uri": "https://localhost:8080/"
        },
        "id": "7BoO6LdIGIZM",
        "outputId": "0fe81792-1d7e-4a84-f22f-9e84752e5a40"
      },
      "execution_count": 10,
      "outputs": [
        {
          "output_type": "execute_result",
          "data": {
            "text/plain": [
              "2    12570\n",
              "0    12147\n",
              "1     7368\n",
              "3     6546\n",
              "Name: aki, dtype: int64"
            ]
          },
          "metadata": {},
          "execution_count": 10
        }
      ]
    },
    {
      "cell_type": "code",
      "source": [
        "# re-categorise AKI as a binary column  0: aki = 0, 1: aki = 1/2/3\n",
        "df_sub_com10['aki_binary'] = df_sub_com10['aki'].apply(\n",
        "    lambda x:int(x == 1 or x == 2 or x == 3))\n",
        "df_sub_com10['aki_binary'].value_counts()"
      ],
      "metadata": {
        "colab": {
          "base_uri": "https://localhost:8080/"
        },
        "id": "H4fHi2ewFj3a",
        "outputId": "1fc1cc79-791a-493f-882b-65a7c49be1de"
      },
      "execution_count": 11,
      "outputs": [
        {
          "output_type": "stream",
          "name": "stderr",
          "text": [
            "<ipython-input-11-1d078dc5cc6c>:2: SettingWithCopyWarning: \n",
            "A value is trying to be set on a copy of a slice from a DataFrame.\n",
            "Try using .loc[row_indexer,col_indexer] = value instead\n",
            "\n",
            "See the caveats in the documentation: https://pandas.pydata.org/pandas-docs/stable/user_guide/indexing.html#returning-a-view-versus-a-copy\n",
            "  df_sub_com10['aki_binary'] = df_sub_com10['aki'].apply(\n"
          ]
        },
        {
          "output_type": "execute_result",
          "data": {
            "text/plain": [
              "1    26484\n",
              "0    12147\n",
              "Name: aki_binary, dtype: int64"
            ]
          },
          "metadata": {},
          "execution_count": 11
        }
      ]
    },
    {
      "cell_type": "code",
      "source": [
        "# create outcome vector and predictor matrix\n",
        "# drop id and race first\n",
        "df = df_sub_com10.drop(columns = ['id', 'aki', 'race', 'gender'])\n",
        "df.head()"
      ],
      "metadata": {
        "colab": {
          "base_uri": "https://localhost:8080/",
          "height": 255
        },
        "id": "eEB4Qv1jGTOl",
        "outputId": "73c21284-db86-4d0d-fc3b-ffa69631892a"
      },
      "execution_count": 38,
      "outputs": [
        {
          "output_type": "execute_result",
          "data": {
            "text/plain": [
              "   admission_age  heart_rate_min  heart_rate_max  heart_rate_mean  sbp_min  \\\n",
              "0      79.953141            96.0           104.0       100.083333    103.0   \n",
              "1      78.194169            72.0           134.0        97.263158     97.0   \n",
              "2      65.602396            60.0            97.0        84.166667     95.0   \n",
              "3      64.906629            59.0            87.0        71.461538    113.0   \n",
              "5      62.002429            78.0           105.0        90.000000     80.0   \n",
              "\n",
              "   sbp_max    sbp_mean  dbp_min  dbp_max   dbp_mean  ...  pt_min  pt_max  \\\n",
              "0    126.0  116.136364     40.0     58.0  47.863636  ...    11.9    12.0   \n",
              "1    127.0  109.833333     56.0     89.0  70.166667  ...    20.0    24.7   \n",
              "2    143.0  112.153846     56.0     99.0  73.307692  ...    12.1    12.1   \n",
              "3    150.0  138.160000     60.0     94.0  80.200000  ...    12.8    12.8   \n",
              "5    154.0  114.440000     42.0    136.0  60.360000  ...    11.8    12.0   \n",
              "\n",
              "   gcs_min  gcs_motor  gcs_verbal  gcs_eyes  gcs_unable  weight_admit  \\\n",
              "0     15.0        6.0         5.0       4.0         0.0         110.0   \n",
              "1     15.0        6.0         5.0       4.0         0.0          82.0   \n",
              "2     15.0        6.0         5.0       4.0         0.0          62.1   \n",
              "3     15.0        1.0         0.0       1.0         1.0         113.1   \n",
              "5     15.0        6.0         5.0       4.0         0.0         137.9   \n",
              "\n",
              "   gender_  aki_binary  \n",
              "0        1           1  \n",
              "1        1           0  \n",
              "2        1           1  \n",
              "3        1           1  \n",
              "5        0           1  \n",
              "\n",
              "[5 rows x 61 columns]"
            ],
            "text/html": [
              "\n",
              "  <div id=\"df-c773e0e0-d69c-4cf3-83f1-029a5d4c4528\" class=\"colab-df-container\">\n",
              "    <div>\n",
              "<style scoped>\n",
              "    .dataframe tbody tr th:only-of-type {\n",
              "        vertical-align: middle;\n",
              "    }\n",
              "\n",
              "    .dataframe tbody tr th {\n",
              "        vertical-align: top;\n",
              "    }\n",
              "\n",
              "    .dataframe thead th {\n",
              "        text-align: right;\n",
              "    }\n",
              "</style>\n",
              "<table border=\"1\" class=\"dataframe\">\n",
              "  <thead>\n",
              "    <tr style=\"text-align: right;\">\n",
              "      <th></th>\n",
              "      <th>admission_age</th>\n",
              "      <th>heart_rate_min</th>\n",
              "      <th>heart_rate_max</th>\n",
              "      <th>heart_rate_mean</th>\n",
              "      <th>sbp_min</th>\n",
              "      <th>sbp_max</th>\n",
              "      <th>sbp_mean</th>\n",
              "      <th>dbp_min</th>\n",
              "      <th>dbp_max</th>\n",
              "      <th>dbp_mean</th>\n",
              "      <th>...</th>\n",
              "      <th>pt_min</th>\n",
              "      <th>pt_max</th>\n",
              "      <th>gcs_min</th>\n",
              "      <th>gcs_motor</th>\n",
              "      <th>gcs_verbal</th>\n",
              "      <th>gcs_eyes</th>\n",
              "      <th>gcs_unable</th>\n",
              "      <th>weight_admit</th>\n",
              "      <th>gender_</th>\n",
              "      <th>aki_binary</th>\n",
              "    </tr>\n",
              "  </thead>\n",
              "  <tbody>\n",
              "    <tr>\n",
              "      <th>0</th>\n",
              "      <td>79.953141</td>\n",
              "      <td>96.0</td>\n",
              "      <td>104.0</td>\n",
              "      <td>100.083333</td>\n",
              "      <td>103.0</td>\n",
              "      <td>126.0</td>\n",
              "      <td>116.136364</td>\n",
              "      <td>40.0</td>\n",
              "      <td>58.0</td>\n",
              "      <td>47.863636</td>\n",
              "      <td>...</td>\n",
              "      <td>11.9</td>\n",
              "      <td>12.0</td>\n",
              "      <td>15.0</td>\n",
              "      <td>6.0</td>\n",
              "      <td>5.0</td>\n",
              "      <td>4.0</td>\n",
              "      <td>0.0</td>\n",
              "      <td>110.0</td>\n",
              "      <td>1</td>\n",
              "      <td>1</td>\n",
              "    </tr>\n",
              "    <tr>\n",
              "      <th>1</th>\n",
              "      <td>78.194169</td>\n",
              "      <td>72.0</td>\n",
              "      <td>134.0</td>\n",
              "      <td>97.263158</td>\n",
              "      <td>97.0</td>\n",
              "      <td>127.0</td>\n",
              "      <td>109.833333</td>\n",
              "      <td>56.0</td>\n",
              "      <td>89.0</td>\n",
              "      <td>70.166667</td>\n",
              "      <td>...</td>\n",
              "      <td>20.0</td>\n",
              "      <td>24.7</td>\n",
              "      <td>15.0</td>\n",
              "      <td>6.0</td>\n",
              "      <td>5.0</td>\n",
              "      <td>4.0</td>\n",
              "      <td>0.0</td>\n",
              "      <td>82.0</td>\n",
              "      <td>1</td>\n",
              "      <td>0</td>\n",
              "    </tr>\n",
              "    <tr>\n",
              "      <th>2</th>\n",
              "      <td>65.602396</td>\n",
              "      <td>60.0</td>\n",
              "      <td>97.0</td>\n",
              "      <td>84.166667</td>\n",
              "      <td>95.0</td>\n",
              "      <td>143.0</td>\n",
              "      <td>112.153846</td>\n",
              "      <td>56.0</td>\n",
              "      <td>99.0</td>\n",
              "      <td>73.307692</td>\n",
              "      <td>...</td>\n",
              "      <td>12.1</td>\n",
              "      <td>12.1</td>\n",
              "      <td>15.0</td>\n",
              "      <td>6.0</td>\n",
              "      <td>5.0</td>\n",
              "      <td>4.0</td>\n",
              "      <td>0.0</td>\n",
              "      <td>62.1</td>\n",
              "      <td>1</td>\n",
              "      <td>1</td>\n",
              "    </tr>\n",
              "    <tr>\n",
              "      <th>3</th>\n",
              "      <td>64.906629</td>\n",
              "      <td>59.0</td>\n",
              "      <td>87.0</td>\n",
              "      <td>71.461538</td>\n",
              "      <td>113.0</td>\n",
              "      <td>150.0</td>\n",
              "      <td>138.160000</td>\n",
              "      <td>60.0</td>\n",
              "      <td>94.0</td>\n",
              "      <td>80.200000</td>\n",
              "      <td>...</td>\n",
              "      <td>12.8</td>\n",
              "      <td>12.8</td>\n",
              "      <td>15.0</td>\n",
              "      <td>1.0</td>\n",
              "      <td>0.0</td>\n",
              "      <td>1.0</td>\n",
              "      <td>1.0</td>\n",
              "      <td>113.1</td>\n",
              "      <td>1</td>\n",
              "      <td>1</td>\n",
              "    </tr>\n",
              "    <tr>\n",
              "      <th>5</th>\n",
              "      <td>62.002429</td>\n",
              "      <td>78.0</td>\n",
              "      <td>105.0</td>\n",
              "      <td>90.000000</td>\n",
              "      <td>80.0</td>\n",
              "      <td>154.0</td>\n",
              "      <td>114.440000</td>\n",
              "      <td>42.0</td>\n",
              "      <td>136.0</td>\n",
              "      <td>60.360000</td>\n",
              "      <td>...</td>\n",
              "      <td>11.8</td>\n",
              "      <td>12.0</td>\n",
              "      <td>15.0</td>\n",
              "      <td>6.0</td>\n",
              "      <td>5.0</td>\n",
              "      <td>4.0</td>\n",
              "      <td>0.0</td>\n",
              "      <td>137.9</td>\n",
              "      <td>0</td>\n",
              "      <td>1</td>\n",
              "    </tr>\n",
              "  </tbody>\n",
              "</table>\n",
              "<p>5 rows × 61 columns</p>\n",
              "</div>\n",
              "    <div class=\"colab-df-buttons\">\n",
              "\n",
              "  <div class=\"colab-df-container\">\n",
              "    <button class=\"colab-df-convert\" onclick=\"convertToInteractive('df-c773e0e0-d69c-4cf3-83f1-029a5d4c4528')\"\n",
              "            title=\"Convert this dataframe to an interactive table.\"\n",
              "            style=\"display:none;\">\n",
              "\n",
              "  <svg xmlns=\"http://www.w3.org/2000/svg\" height=\"24px\" viewBox=\"0 -960 960 960\">\n",
              "    <path d=\"M120-120v-720h720v720H120Zm60-500h600v-160H180v160Zm220 220h160v-160H400v160Zm0 220h160v-160H400v160ZM180-400h160v-160H180v160Zm440 0h160v-160H620v160ZM180-180h160v-160H180v160Zm440 0h160v-160H620v160Z\"/>\n",
              "  </svg>\n",
              "    </button>\n",
              "\n",
              "  <style>\n",
              "    .colab-df-container {\n",
              "      display:flex;\n",
              "      gap: 12px;\n",
              "    }\n",
              "\n",
              "    .colab-df-convert {\n",
              "      background-color: #E8F0FE;\n",
              "      border: none;\n",
              "      border-radius: 50%;\n",
              "      cursor: pointer;\n",
              "      display: none;\n",
              "      fill: #1967D2;\n",
              "      height: 32px;\n",
              "      padding: 0 0 0 0;\n",
              "      width: 32px;\n",
              "    }\n",
              "\n",
              "    .colab-df-convert:hover {\n",
              "      background-color: #E2EBFA;\n",
              "      box-shadow: 0px 1px 2px rgba(60, 64, 67, 0.3), 0px 1px 3px 1px rgba(60, 64, 67, 0.15);\n",
              "      fill: #174EA6;\n",
              "    }\n",
              "\n",
              "    .colab-df-buttons div {\n",
              "      margin-bottom: 4px;\n",
              "    }\n",
              "\n",
              "    [theme=dark] .colab-df-convert {\n",
              "      background-color: #3B4455;\n",
              "      fill: #D2E3FC;\n",
              "    }\n",
              "\n",
              "    [theme=dark] .colab-df-convert:hover {\n",
              "      background-color: #434B5C;\n",
              "      box-shadow: 0px 1px 3px 1px rgba(0, 0, 0, 0.15);\n",
              "      filter: drop-shadow(0px 1px 2px rgba(0, 0, 0, 0.3));\n",
              "      fill: #FFFFFF;\n",
              "    }\n",
              "  </style>\n",
              "\n",
              "    <script>\n",
              "      const buttonEl =\n",
              "        document.querySelector('#df-c773e0e0-d69c-4cf3-83f1-029a5d4c4528 button.colab-df-convert');\n",
              "      buttonEl.style.display =\n",
              "        google.colab.kernel.accessAllowed ? 'block' : 'none';\n",
              "\n",
              "      async function convertToInteractive(key) {\n",
              "        const element = document.querySelector('#df-c773e0e0-d69c-4cf3-83f1-029a5d4c4528');\n",
              "        const dataTable =\n",
              "          await google.colab.kernel.invokeFunction('convertToInteractive',\n",
              "                                                    [key], {});\n",
              "        if (!dataTable) return;\n",
              "\n",
              "        const docLinkHtml = 'Like what you see? Visit the ' +\n",
              "          '<a target=\"_blank\" href=https://colab.research.google.com/notebooks/data_table.ipynb>data table notebook</a>'\n",
              "          + ' to learn more about interactive tables.';\n",
              "        element.innerHTML = '';\n",
              "        dataTable['output_type'] = 'display_data';\n",
              "        await google.colab.output.renderOutput(dataTable, element);\n",
              "        const docLink = document.createElement('div');\n",
              "        docLink.innerHTML = docLinkHtml;\n",
              "        element.appendChild(docLink);\n",
              "      }\n",
              "    </script>\n",
              "  </div>\n",
              "\n",
              "\n",
              "<div id=\"df-c698d04d-b6a2-4de6-93c3-5eb2348c1b48\">\n",
              "  <button class=\"colab-df-quickchart\" onclick=\"quickchart('df-c698d04d-b6a2-4de6-93c3-5eb2348c1b48')\"\n",
              "            title=\"Suggest charts\"\n",
              "            style=\"display:none;\">\n",
              "\n",
              "<svg xmlns=\"http://www.w3.org/2000/svg\" height=\"24px\"viewBox=\"0 0 24 24\"\n",
              "     width=\"24px\">\n",
              "    <g>\n",
              "        <path d=\"M19 3H5c-1.1 0-2 .9-2 2v14c0 1.1.9 2 2 2h14c1.1 0 2-.9 2-2V5c0-1.1-.9-2-2-2zM9 17H7v-7h2v7zm4 0h-2V7h2v10zm4 0h-2v-4h2v4z\"/>\n",
              "    </g>\n",
              "</svg>\n",
              "  </button>\n",
              "\n",
              "<style>\n",
              "  .colab-df-quickchart {\n",
              "      --bg-color: #E8F0FE;\n",
              "      --fill-color: #1967D2;\n",
              "      --hover-bg-color: #E2EBFA;\n",
              "      --hover-fill-color: #174EA6;\n",
              "      --disabled-fill-color: #AAA;\n",
              "      --disabled-bg-color: #DDD;\n",
              "  }\n",
              "\n",
              "  [theme=dark] .colab-df-quickchart {\n",
              "      --bg-color: #3B4455;\n",
              "      --fill-color: #D2E3FC;\n",
              "      --hover-bg-color: #434B5C;\n",
              "      --hover-fill-color: #FFFFFF;\n",
              "      --disabled-bg-color: #3B4455;\n",
              "      --disabled-fill-color: #666;\n",
              "  }\n",
              "\n",
              "  .colab-df-quickchart {\n",
              "    background-color: var(--bg-color);\n",
              "    border: none;\n",
              "    border-radius: 50%;\n",
              "    cursor: pointer;\n",
              "    display: none;\n",
              "    fill: var(--fill-color);\n",
              "    height: 32px;\n",
              "    padding: 0;\n",
              "    width: 32px;\n",
              "  }\n",
              "\n",
              "  .colab-df-quickchart:hover {\n",
              "    background-color: var(--hover-bg-color);\n",
              "    box-shadow: 0 1px 2px rgba(60, 64, 67, 0.3), 0 1px 3px 1px rgba(60, 64, 67, 0.15);\n",
              "    fill: var(--button-hover-fill-color);\n",
              "  }\n",
              "\n",
              "  .colab-df-quickchart-complete:disabled,\n",
              "  .colab-df-quickchart-complete:disabled:hover {\n",
              "    background-color: var(--disabled-bg-color);\n",
              "    fill: var(--disabled-fill-color);\n",
              "    box-shadow: none;\n",
              "  }\n",
              "\n",
              "  .colab-df-spinner {\n",
              "    border: 2px solid var(--fill-color);\n",
              "    border-color: transparent;\n",
              "    border-bottom-color: var(--fill-color);\n",
              "    animation:\n",
              "      spin 1s steps(1) infinite;\n",
              "  }\n",
              "\n",
              "  @keyframes spin {\n",
              "    0% {\n",
              "      border-color: transparent;\n",
              "      border-bottom-color: var(--fill-color);\n",
              "      border-left-color: var(--fill-color);\n",
              "    }\n",
              "    20% {\n",
              "      border-color: transparent;\n",
              "      border-left-color: var(--fill-color);\n",
              "      border-top-color: var(--fill-color);\n",
              "    }\n",
              "    30% {\n",
              "      border-color: transparent;\n",
              "      border-left-color: var(--fill-color);\n",
              "      border-top-color: var(--fill-color);\n",
              "      border-right-color: var(--fill-color);\n",
              "    }\n",
              "    40% {\n",
              "      border-color: transparent;\n",
              "      border-right-color: var(--fill-color);\n",
              "      border-top-color: var(--fill-color);\n",
              "    }\n",
              "    60% {\n",
              "      border-color: transparent;\n",
              "      border-right-color: var(--fill-color);\n",
              "    }\n",
              "    80% {\n",
              "      border-color: transparent;\n",
              "      border-right-color: var(--fill-color);\n",
              "      border-bottom-color: var(--fill-color);\n",
              "    }\n",
              "    90% {\n",
              "      border-color: transparent;\n",
              "      border-bottom-color: var(--fill-color);\n",
              "    }\n",
              "  }\n",
              "</style>\n",
              "\n",
              "  <script>\n",
              "    async function quickchart(key) {\n",
              "      const quickchartButtonEl =\n",
              "        document.querySelector('#' + key + ' button');\n",
              "      quickchartButtonEl.disabled = true;  // To prevent multiple clicks.\n",
              "      quickchartButtonEl.classList.add('colab-df-spinner');\n",
              "      try {\n",
              "        const charts = await google.colab.kernel.invokeFunction(\n",
              "            'suggestCharts', [key], {});\n",
              "      } catch (error) {\n",
              "        console.error('Error during call to suggestCharts:', error);\n",
              "      }\n",
              "      quickchartButtonEl.classList.remove('colab-df-spinner');\n",
              "      quickchartButtonEl.classList.add('colab-df-quickchart-complete');\n",
              "    }\n",
              "    (() => {\n",
              "      let quickchartButtonEl =\n",
              "        document.querySelector('#df-c698d04d-b6a2-4de6-93c3-5eb2348c1b48 button');\n",
              "      quickchartButtonEl.style.display =\n",
              "        google.colab.kernel.accessAllowed ? 'block' : 'none';\n",
              "    })();\n",
              "  </script>\n",
              "</div>\n",
              "\n",
              "    </div>\n",
              "  </div>\n"
            ],
            "application/vnd.google.colaboratory.intrinsic+json": {
              "type": "dataframe",
              "variable_name": "df"
            }
          },
          "metadata": {},
          "execution_count": 38
        }
      ]
    },
    {
      "cell_type": "code",
      "source": [
        "# split dataset\n",
        "# first we extract X and y\n",
        "y_df = df['aki_binary']\n",
        "X_df = df.drop('aki_binary', axis = 1)"
      ],
      "metadata": {
        "id": "fizwSM3BdaG9"
      },
      "execution_count": 39,
      "outputs": []
    },
    {
      "cell_type": "code",
      "source": [
        "# standardization on X: (X - mean) / std\n",
        "Std = StandardScaler(copy = False)\n",
        "X_std_df = pd.DataFrame(data = Std.fit_transform(X_df),\n",
        "                        columns = Std.get_feature_names_out(input_features = X_df.columns))"
      ],
      "metadata": {
        "id": "uV9_RJrPXD8v"
      },
      "execution_count": 40,
      "outputs": []
    },
    {
      "cell_type": "code",
      "source": [
        "# training - test split\n",
        "X_train, X_test, y_train, y_test = train_test_split(\n",
        "    X_std_df, y_df, test_size = 0.3, random_state = 42,\n",
        "    stratify = y_df, shuffle = True)"
      ],
      "metadata": {
        "id": "yzbK47-7XHKW"
      },
      "execution_count": 41,
      "outputs": []
    },
    {
      "cell_type": "code",
      "source": [
        "# logistic regression with CV\n",
        "lr_param = {\n",
        "    'C': np.linspace(0.001, 0.01, 10),\n",
        "}"
      ],
      "metadata": {
        "id": "A_Hbro_1Oo_f"
      },
      "execution_count": 56,
      "outputs": []
    },
    {
      "cell_type": "code",
      "source": [
        "stratifiedCV = StratifiedKFold(n_splits = 3)\n",
        "LR = LogisticRegression(class_weight = 'balanced', solver = 'saga', max_iter = 50000)\n",
        "BestLR = GridSearchCV(\n",
        "    LR,\n",
        "    param_grid = lr_param,\n",
        "    scoring = 'f1',\n",
        "    cv = stratifiedCV,\n",
        "    verbose = 1,\n",
        "    n_jobs = -1\n",
        ")\n",
        "BestLR.fit(X_train, y_train)"
      ],
      "metadata": {
        "colab": {
          "base_uri": "https://localhost:8080/",
          "height": 133
        },
        "id": "bPwT5vRWannG",
        "outputId": "70014dfe-d7e5-42b6-bb4b-3a6e08091818"
      },
      "execution_count": 58,
      "outputs": [
        {
          "output_type": "stream",
          "name": "stdout",
          "text": [
            "Fitting 3 folds for each of 20 candidates, totalling 60 fits\n"
          ]
        },
        {
          "output_type": "execute_result",
          "data": {
            "text/plain": [
              "GridSearchCV(cv=StratifiedKFold(n_splits=3, random_state=None, shuffle=False),\n",
              "             estimator=LogisticRegression(class_weight='balanced',\n",
              "                                          max_iter=50000, solver='saga'),\n",
              "             n_jobs=-1,\n",
              "             param_grid={'C': array([0.001, 0.002, 0.003, 0.004, 0.005, 0.006, 0.007, 0.008, 0.009,\n",
              "       0.01 ]),\n",
              "                         'penalty': ['l1', 'l2']},\n",
              "             scoring='f1', verbose=1)"
            ],
            "text/html": [
              "<style>#sk-container-id-1 {color: black;background-color: white;}#sk-container-id-1 pre{padding: 0;}#sk-container-id-1 div.sk-toggleable {background-color: white;}#sk-container-id-1 label.sk-toggleable__label {cursor: pointer;display: block;width: 100%;margin-bottom: 0;padding: 0.3em;box-sizing: border-box;text-align: center;}#sk-container-id-1 label.sk-toggleable__label-arrow:before {content: \"▸\";float: left;margin-right: 0.25em;color: #696969;}#sk-container-id-1 label.sk-toggleable__label-arrow:hover:before {color: black;}#sk-container-id-1 div.sk-estimator:hover label.sk-toggleable__label-arrow:before {color: black;}#sk-container-id-1 div.sk-toggleable__content {max-height: 0;max-width: 0;overflow: hidden;text-align: left;background-color: #f0f8ff;}#sk-container-id-1 div.sk-toggleable__content pre {margin: 0.2em;color: black;border-radius: 0.25em;background-color: #f0f8ff;}#sk-container-id-1 input.sk-toggleable__control:checked~div.sk-toggleable__content {max-height: 200px;max-width: 100%;overflow: auto;}#sk-container-id-1 input.sk-toggleable__control:checked~label.sk-toggleable__label-arrow:before {content: \"▾\";}#sk-container-id-1 div.sk-estimator input.sk-toggleable__control:checked~label.sk-toggleable__label {background-color: #d4ebff;}#sk-container-id-1 div.sk-label input.sk-toggleable__control:checked~label.sk-toggleable__label {background-color: #d4ebff;}#sk-container-id-1 input.sk-hidden--visually {border: 0;clip: rect(1px 1px 1px 1px);clip: rect(1px, 1px, 1px, 1px);height: 1px;margin: -1px;overflow: hidden;padding: 0;position: absolute;width: 1px;}#sk-container-id-1 div.sk-estimator {font-family: monospace;background-color: #f0f8ff;border: 1px dotted black;border-radius: 0.25em;box-sizing: border-box;margin-bottom: 0.5em;}#sk-container-id-1 div.sk-estimator:hover {background-color: #d4ebff;}#sk-container-id-1 div.sk-parallel-item::after {content: \"\";width: 100%;border-bottom: 1px solid gray;flex-grow: 1;}#sk-container-id-1 div.sk-label:hover label.sk-toggleable__label {background-color: #d4ebff;}#sk-container-id-1 div.sk-serial::before {content: \"\";position: absolute;border-left: 1px solid gray;box-sizing: border-box;top: 0;bottom: 0;left: 50%;z-index: 0;}#sk-container-id-1 div.sk-serial {display: flex;flex-direction: column;align-items: center;background-color: white;padding-right: 0.2em;padding-left: 0.2em;position: relative;}#sk-container-id-1 div.sk-item {position: relative;z-index: 1;}#sk-container-id-1 div.sk-parallel {display: flex;align-items: stretch;justify-content: center;background-color: white;position: relative;}#sk-container-id-1 div.sk-item::before, #sk-container-id-1 div.sk-parallel-item::before {content: \"\";position: absolute;border-left: 1px solid gray;box-sizing: border-box;top: 0;bottom: 0;left: 50%;z-index: -1;}#sk-container-id-1 div.sk-parallel-item {display: flex;flex-direction: column;z-index: 1;position: relative;background-color: white;}#sk-container-id-1 div.sk-parallel-item:first-child::after {align-self: flex-end;width: 50%;}#sk-container-id-1 div.sk-parallel-item:last-child::after {align-self: flex-start;width: 50%;}#sk-container-id-1 div.sk-parallel-item:only-child::after {width: 0;}#sk-container-id-1 div.sk-dashed-wrapped {border: 1px dashed gray;margin: 0 0.4em 0.5em 0.4em;box-sizing: border-box;padding-bottom: 0.4em;background-color: white;}#sk-container-id-1 div.sk-label label {font-family: monospace;font-weight: bold;display: inline-block;line-height: 1.2em;}#sk-container-id-1 div.sk-label-container {text-align: center;}#sk-container-id-1 div.sk-container {/* jupyter's `normalize.less` sets `[hidden] { display: none; }` but bootstrap.min.css set `[hidden] { display: none !important; }` so we also need the `!important` here to be able to override the default hidden behavior on the sphinx rendered scikit-learn.org. See: https://github.com/scikit-learn/scikit-learn/issues/21755 */display: inline-block !important;position: relative;}#sk-container-id-1 div.sk-text-repr-fallback {display: none;}</style><div id=\"sk-container-id-1\" class=\"sk-top-container\"><div class=\"sk-text-repr-fallback\"><pre>GridSearchCV(cv=StratifiedKFold(n_splits=3, random_state=None, shuffle=False),\n",
              "             estimator=LogisticRegression(class_weight=&#x27;balanced&#x27;,\n",
              "                                          max_iter=50000, solver=&#x27;saga&#x27;),\n",
              "             n_jobs=-1,\n",
              "             param_grid={&#x27;C&#x27;: array([0.001, 0.002, 0.003, 0.004, 0.005, 0.006, 0.007, 0.008, 0.009,\n",
              "       0.01 ]),\n",
              "                         &#x27;penalty&#x27;: [&#x27;l1&#x27;, &#x27;l2&#x27;]},\n",
              "             scoring=&#x27;f1&#x27;, verbose=1)</pre><b>In a Jupyter environment, please rerun this cell to show the HTML representation or trust the notebook. <br />On GitHub, the HTML representation is unable to render, please try loading this page with nbviewer.org.</b></div><div class=\"sk-container\" hidden><div class=\"sk-item sk-dashed-wrapped\"><div class=\"sk-label-container\"><div class=\"sk-label sk-toggleable\"><input class=\"sk-toggleable__control sk-hidden--visually\" id=\"sk-estimator-id-1\" type=\"checkbox\" ><label for=\"sk-estimator-id-1\" class=\"sk-toggleable__label sk-toggleable__label-arrow\">GridSearchCV</label><div class=\"sk-toggleable__content\"><pre>GridSearchCV(cv=StratifiedKFold(n_splits=3, random_state=None, shuffle=False),\n",
              "             estimator=LogisticRegression(class_weight=&#x27;balanced&#x27;,\n",
              "                                          max_iter=50000, solver=&#x27;saga&#x27;),\n",
              "             n_jobs=-1,\n",
              "             param_grid={&#x27;C&#x27;: array([0.001, 0.002, 0.003, 0.004, 0.005, 0.006, 0.007, 0.008, 0.009,\n",
              "       0.01 ]),\n",
              "                         &#x27;penalty&#x27;: [&#x27;l1&#x27;, &#x27;l2&#x27;]},\n",
              "             scoring=&#x27;f1&#x27;, verbose=1)</pre></div></div></div><div class=\"sk-parallel\"><div class=\"sk-parallel-item\"><div class=\"sk-item\"><div class=\"sk-label-container\"><div class=\"sk-label sk-toggleable\"><input class=\"sk-toggleable__control sk-hidden--visually\" id=\"sk-estimator-id-2\" type=\"checkbox\" ><label for=\"sk-estimator-id-2\" class=\"sk-toggleable__label sk-toggleable__label-arrow\">estimator: LogisticRegression</label><div class=\"sk-toggleable__content\"><pre>LogisticRegression(class_weight=&#x27;balanced&#x27;, max_iter=50000, solver=&#x27;saga&#x27;)</pre></div></div></div><div class=\"sk-serial\"><div class=\"sk-item\"><div class=\"sk-estimator sk-toggleable\"><input class=\"sk-toggleable__control sk-hidden--visually\" id=\"sk-estimator-id-3\" type=\"checkbox\" ><label for=\"sk-estimator-id-3\" class=\"sk-toggleable__label sk-toggleable__label-arrow\">LogisticRegression</label><div class=\"sk-toggleable__content\"><pre>LogisticRegression(class_weight=&#x27;balanced&#x27;, max_iter=50000, solver=&#x27;saga&#x27;)</pre></div></div></div></div></div></div></div></div></div></div>"
            ]
          },
          "metadata": {},
          "execution_count": 58
        }
      ]
    },
    {
      "cell_type": "code",
      "source": [
        "BestLR.best_params_"
      ],
      "metadata": {
        "colab": {
          "base_uri": "https://localhost:8080/"
        },
        "id": "kosb3kAgf13X",
        "outputId": "26c6b370-eaf4-46e0-9a01-1012b7968ed9"
      },
      "execution_count": 59,
      "outputs": [
        {
          "output_type": "execute_result",
          "data": {
            "text/plain": [
              "{'C': 0.008, 'penalty': 'l2'}"
            ]
          },
          "metadata": {},
          "execution_count": 59
        }
      ]
    },
    {
      "cell_type": "code",
      "source": [
        "y_BestLR_pred = BestLR.predict(X_test)\n",
        "\n",
        "print(confusion_matrix(y_test, y_BestLR_pred))\n",
        "print(pd.DataFrame(classification_report(\n",
        "    y_test, y_BestLR_pred, labels = None,\n",
        "    target_names = ['no aki', 'aki'], sample_weight = None,\n",
        "    digits = 2, output_dict = True)).round(2))"
      ],
      "metadata": {
        "colab": {
          "base_uri": "https://localhost:8080/"
        },
        "id": "luf1slPVf7r2",
        "outputId": "0420bd2e-4b29-4383-a191-68befef352fd"
      },
      "execution_count": 61,
      "outputs": [
        {
          "output_type": "stream",
          "name": "stdout",
          "text": [
            "[[2557 1087]\n",
            " [2682 5264]]\n",
            "            no aki      aki  accuracy  macro avg  weighted avg\n",
            "precision     0.49     0.83      0.67       0.66          0.72\n",
            "recall        0.70     0.66      0.67       0.68          0.67\n",
            "f1-score      0.58     0.74      0.67       0.66          0.69\n",
            "support    3644.00  7946.00      0.67   11590.00      11590.00\n"
          ]
        }
      ]
    },
    {
      "cell_type": "markdown",
      "source": [
        "logistic\n",
        "\n",
        "tree-base DTc RF adaboost ostxgbo\n",
        "\n",
        "\n",
        "SVC"
      ],
      "metadata": {
        "id": "Q3b_KzC771FP"
      }
    },
    {
      "cell_type": "code",
      "source": [
        "# gridsearch for best C\n",
        "param_grid = {'C': np.linspace(0.001, 1, 50)}\n",
        "LR = LogisticRegression(class_weight = 'balanced', solver = 'newton-cholesky', max_iter = 50000)\n",
        "LR_CV = GridSearchCV(LR, param_grid, cv = 5, scoring = 'f1')\n",
        "LR_CV.fit(X_train, y_train)\n",
        "print(LR_CV.best_params_)"
      ],
      "metadata": {
        "colab": {
          "base_uri": "https://localhost:8080/"
        },
        "id": "Xlbz3WifpfQY",
        "outputId": "8fc19371-f7a8-4a32-c918-29bd698d87b6"
      },
      "execution_count": null,
      "outputs": [
        {
          "output_type": "stream",
          "name": "stdout",
          "text": [
            "{'C': 0.041775510204081635}\n"
          ]
        }
      ]
    },
    {
      "cell_type": "code",
      "source": [
        "LR_opt = LogisticRegression(class_weight = 'balanced', C = 0.042, solver = 'newton-cholesky', max_iter = 50000).fit(X_train, y_train)\n",
        "prob_LRoptpred_valid = LR_opt.predict_proba(X_valid)\n",
        "y_LRoptpred_valid = LR_opt.predict(X_valid)"
      ],
      "metadata": {
        "id": "npgsGgQowiGy"
      },
      "execution_count": null,
      "outputs": []
    },
    {
      "cell_type": "code",
      "source": [
        "print(accuracy_score(y_valid, y_LRoptpred_valid))\n",
        "print(roc_auc_score(y_valid, y_LRoptpred_valid))\n",
        "print(recall_score(y_valid, y_LRoptpred_valid))"
      ],
      "metadata": {
        "colab": {
          "base_uri": "https://localhost:8080/"
        },
        "id": "5YgRo3Ka1ibg",
        "outputId": "35bc2229-986e-44b8-f72d-688f98a2d8a6"
      },
      "execution_count": null,
      "outputs": [
        {
          "output_type": "stream",
          "name": "stdout",
          "text": [
            "0.6600517687661778\n",
            "0.6659096537784888\n",
            "0.6501258540093492\n"
          ]
        }
      ]
    },
    {
      "cell_type": "code",
      "source": [
        "print(confusion_matrix(y_valid, y_LRoptpred_valid))\n",
        "print(pd.DataFrame(classification_report(\n",
        "    y_valid, y_LRoptpred_valid, labels = None,\n",
        "    target_names = ['no aki', 'aki'], sample_weight = None,\n",
        "    digits = 2, output_dict = True)).round(2))"
      ],
      "metadata": {
        "colab": {
          "base_uri": "https://localhost:8080/"
        },
        "id": "DJxdzlj11q4h",
        "outputId": "af80012e-e92d-4650-8764-1b712ad0b3ba"
      },
      "execution_count": null,
      "outputs": [
        {
          "output_type": "stream",
          "name": "stdout",
          "text": [
            "[[1739  812]\n",
            " [1946 3616]]\n",
            "            no aki      aki  accuracy  macro avg  weighted avg\n",
            "precision     0.47     0.82      0.66       0.64          0.71\n",
            "recall        0.68     0.65      0.66       0.67          0.66\n",
            "f1-score      0.56     0.72      0.66       0.64          0.67\n",
            "support    2551.00  5562.00      0.66    8113.00       8113.00\n"
          ]
        }
      ]
    },
    {
      "cell_type": "code",
      "source": [
        "# Tree-base models\n",
        "xg_param = {\n",
        "    'n_estimators': [100, 200, 500],\n",
        "    'max_depth': np.arange(start = 2, stop = 5, step = 1),\n",
        "    'learning_rate': np.arange(start = 0.01, stop = 0.1, step = 0.01)\n",
        "}\n",
        "\n",
        "xg_param"
      ],
      "metadata": {
        "colab": {
          "base_uri": "https://localhost:8080/"
        },
        "id": "Nz20zl_CBFop",
        "outputId": "96f63d18-71ed-4ee3-edf0-2cae848f36da"
      },
      "execution_count": null,
      "outputs": [
        {
          "output_type": "execute_result",
          "data": {
            "text/plain": [
              "{'n_estimators': [100, 200, 500],\n",
              " 'max_depth': array([2, 3, 4]),\n",
              " 'learning_rate': array([0.01, 0.02, 0.03, 0.04, 0.05, 0.06, 0.07, 0.08, 0.09])}"
            ]
          },
          "metadata": {},
          "execution_count": 103
        }
      ]
    },
    {
      "cell_type": "code",
      "source": [
        "XGBoostModel = XGBClassifier()\n",
        "BestXGBoost = GridSearchCV(\n",
        "    XGBoostModel,\n",
        "    param_grid = xg_param,\n",
        "    scoring = 'f1',\n",
        "    cv = stratifiedCV,\n",
        "    verbose = 1,\n",
        "    n_jobs = -1\n",
        ")\n",
        "BestXGBoost.fit(X_train, y_train)"
      ],
      "metadata": {
        "colab": {
          "base_uri": "https://localhost:8080/",
          "height": 134
        },
        "id": "zZuziaEBDVKc",
        "outputId": "1dfa8380-388a-4b15-add0-f2c114463768"
      },
      "execution_count": null,
      "outputs": [
        {
          "output_type": "stream",
          "name": "stdout",
          "text": [
            "Fitting 5 folds for each of 81 candidates, totalling 405 fits\n"
          ]
        },
        {
          "output_type": "execute_result",
          "data": {
            "text/plain": [
              "GridSearchCV(cv=StratifiedKFold(n_splits=5, random_state=None, shuffle=False),\n",
              "             estimator=XGBClassifier(base_score=None, booster=None,\n",
              "                                     callbacks=None, colsample_bylevel=None,\n",
              "                                     colsample_bynode=None,\n",
              "                                     colsample_bytree=None, device=None,\n",
              "                                     early_stopping_rounds=None,\n",
              "                                     enable_categorical=False, eval_metric=None,\n",
              "                                     feature_types=None, gamma=None,\n",
              "                                     grow_policy=None, importance_...\n",
              "                                     max_delta_step=None, max_depth=None,\n",
              "                                     max_leaves=None, min_child_weight=None,\n",
              "                                     missing=nan, monotone_constraints=None,\n",
              "                                     multi_strategy=None, n_estimators=None,\n",
              "                                     n_jobs=None, num_parallel_tree=None,\n",
              "                                     random_state=None, ...),\n",
              "             n_jobs=-1,\n",
              "             param_grid={'learning_rate': array([0.01, 0.02, 0.03, 0.04, 0.05, 0.06, 0.07, 0.08, 0.09]),\n",
              "                         'max_depth': array([2, 3, 4]),\n",
              "                         'n_estimators': [100, 200, 500]},\n",
              "             scoring='f1', verbose=1)"
            ],
            "text/html": [
              "<style>#sk-container-id-4 {color: black;background-color: white;}#sk-container-id-4 pre{padding: 0;}#sk-container-id-4 div.sk-toggleable {background-color: white;}#sk-container-id-4 label.sk-toggleable__label {cursor: pointer;display: block;width: 100%;margin-bottom: 0;padding: 0.3em;box-sizing: border-box;text-align: center;}#sk-container-id-4 label.sk-toggleable__label-arrow:before {content: \"▸\";float: left;margin-right: 0.25em;color: #696969;}#sk-container-id-4 label.sk-toggleable__label-arrow:hover:before {color: black;}#sk-container-id-4 div.sk-estimator:hover label.sk-toggleable__label-arrow:before {color: black;}#sk-container-id-4 div.sk-toggleable__content {max-height: 0;max-width: 0;overflow: hidden;text-align: left;background-color: #f0f8ff;}#sk-container-id-4 div.sk-toggleable__content pre {margin: 0.2em;color: black;border-radius: 0.25em;background-color: #f0f8ff;}#sk-container-id-4 input.sk-toggleable__control:checked~div.sk-toggleable__content {max-height: 200px;max-width: 100%;overflow: auto;}#sk-container-id-4 input.sk-toggleable__control:checked~label.sk-toggleable__label-arrow:before {content: \"▾\";}#sk-container-id-4 div.sk-estimator input.sk-toggleable__control:checked~label.sk-toggleable__label {background-color: #d4ebff;}#sk-container-id-4 div.sk-label input.sk-toggleable__control:checked~label.sk-toggleable__label {background-color: #d4ebff;}#sk-container-id-4 input.sk-hidden--visually {border: 0;clip: rect(1px 1px 1px 1px);clip: rect(1px, 1px, 1px, 1px);height: 1px;margin: -1px;overflow: hidden;padding: 0;position: absolute;width: 1px;}#sk-container-id-4 div.sk-estimator {font-family: monospace;background-color: #f0f8ff;border: 1px dotted black;border-radius: 0.25em;box-sizing: border-box;margin-bottom: 0.5em;}#sk-container-id-4 div.sk-estimator:hover {background-color: #d4ebff;}#sk-container-id-4 div.sk-parallel-item::after {content: \"\";width: 100%;border-bottom: 1px solid gray;flex-grow: 1;}#sk-container-id-4 div.sk-label:hover label.sk-toggleable__label {background-color: #d4ebff;}#sk-container-id-4 div.sk-serial::before {content: \"\";position: absolute;border-left: 1px solid gray;box-sizing: border-box;top: 0;bottom: 0;left: 50%;z-index: 0;}#sk-container-id-4 div.sk-serial {display: flex;flex-direction: column;align-items: center;background-color: white;padding-right: 0.2em;padding-left: 0.2em;position: relative;}#sk-container-id-4 div.sk-item {position: relative;z-index: 1;}#sk-container-id-4 div.sk-parallel {display: flex;align-items: stretch;justify-content: center;background-color: white;position: relative;}#sk-container-id-4 div.sk-item::before, #sk-container-id-4 div.sk-parallel-item::before {content: \"\";position: absolute;border-left: 1px solid gray;box-sizing: border-box;top: 0;bottom: 0;left: 50%;z-index: -1;}#sk-container-id-4 div.sk-parallel-item {display: flex;flex-direction: column;z-index: 1;position: relative;background-color: white;}#sk-container-id-4 div.sk-parallel-item:first-child::after {align-self: flex-end;width: 50%;}#sk-container-id-4 div.sk-parallel-item:last-child::after {align-self: flex-start;width: 50%;}#sk-container-id-4 div.sk-parallel-item:only-child::after {width: 0;}#sk-container-id-4 div.sk-dashed-wrapped {border: 1px dashed gray;margin: 0 0.4em 0.5em 0.4em;box-sizing: border-box;padding-bottom: 0.4em;background-color: white;}#sk-container-id-4 div.sk-label label {font-family: monospace;font-weight: bold;display: inline-block;line-height: 1.2em;}#sk-container-id-4 div.sk-label-container {text-align: center;}#sk-container-id-4 div.sk-container {/* jupyter's `normalize.less` sets `[hidden] { display: none; }` but bootstrap.min.css set `[hidden] { display: none !important; }` so we also need the `!important` here to be able to override the default hidden behavior on the sphinx rendered scikit-learn.org. See: https://github.com/scikit-learn/scikit-learn/issues/21755 */display: inline-block !important;position: relative;}#sk-container-id-4 div.sk-text-repr-fallback {display: none;}</style><div id=\"sk-container-id-4\" class=\"sk-top-container\"><div class=\"sk-text-repr-fallback\"><pre>GridSearchCV(cv=StratifiedKFold(n_splits=5, random_state=None, shuffle=False),\n",
              "             estimator=XGBClassifier(base_score=None, booster=None,\n",
              "                                     callbacks=None, colsample_bylevel=None,\n",
              "                                     colsample_bynode=None,\n",
              "                                     colsample_bytree=None, device=None,\n",
              "                                     early_stopping_rounds=None,\n",
              "                                     enable_categorical=False, eval_metric=None,\n",
              "                                     feature_types=None, gamma=None,\n",
              "                                     grow_policy=None, importance_...\n",
              "                                     max_delta_step=None, max_depth=None,\n",
              "                                     max_leaves=None, min_child_weight=None,\n",
              "                                     missing=nan, monotone_constraints=None,\n",
              "                                     multi_strategy=None, n_estimators=None,\n",
              "                                     n_jobs=None, num_parallel_tree=None,\n",
              "                                     random_state=None, ...),\n",
              "             n_jobs=-1,\n",
              "             param_grid={&#x27;learning_rate&#x27;: array([0.01, 0.02, 0.03, 0.04, 0.05, 0.06, 0.07, 0.08, 0.09]),\n",
              "                         &#x27;max_depth&#x27;: array([2, 3, 4]),\n",
              "                         &#x27;n_estimators&#x27;: [100, 200, 500]},\n",
              "             scoring=&#x27;f1&#x27;, verbose=1)</pre><b>In a Jupyter environment, please rerun this cell to show the HTML representation or trust the notebook. <br />On GitHub, the HTML representation is unable to render, please try loading this page with nbviewer.org.</b></div><div class=\"sk-container\" hidden><div class=\"sk-item sk-dashed-wrapped\"><div class=\"sk-label-container\"><div class=\"sk-label sk-toggleable\"><input class=\"sk-toggleable__control sk-hidden--visually\" id=\"sk-estimator-id-10\" type=\"checkbox\" ><label for=\"sk-estimator-id-10\" class=\"sk-toggleable__label sk-toggleable__label-arrow\">GridSearchCV</label><div class=\"sk-toggleable__content\"><pre>GridSearchCV(cv=StratifiedKFold(n_splits=5, random_state=None, shuffle=False),\n",
              "             estimator=XGBClassifier(base_score=None, booster=None,\n",
              "                                     callbacks=None, colsample_bylevel=None,\n",
              "                                     colsample_bynode=None,\n",
              "                                     colsample_bytree=None, device=None,\n",
              "                                     early_stopping_rounds=None,\n",
              "                                     enable_categorical=False, eval_metric=None,\n",
              "                                     feature_types=None, gamma=None,\n",
              "                                     grow_policy=None, importance_...\n",
              "                                     max_delta_step=None, max_depth=None,\n",
              "                                     max_leaves=None, min_child_weight=None,\n",
              "                                     missing=nan, monotone_constraints=None,\n",
              "                                     multi_strategy=None, n_estimators=None,\n",
              "                                     n_jobs=None, num_parallel_tree=None,\n",
              "                                     random_state=None, ...),\n",
              "             n_jobs=-1,\n",
              "             param_grid={&#x27;learning_rate&#x27;: array([0.01, 0.02, 0.03, 0.04, 0.05, 0.06, 0.07, 0.08, 0.09]),\n",
              "                         &#x27;max_depth&#x27;: array([2, 3, 4]),\n",
              "                         &#x27;n_estimators&#x27;: [100, 200, 500]},\n",
              "             scoring=&#x27;f1&#x27;, verbose=1)</pre></div></div></div><div class=\"sk-parallel\"><div class=\"sk-parallel-item\"><div class=\"sk-item\"><div class=\"sk-label-container\"><div class=\"sk-label sk-toggleable\"><input class=\"sk-toggleable__control sk-hidden--visually\" id=\"sk-estimator-id-11\" type=\"checkbox\" ><label for=\"sk-estimator-id-11\" class=\"sk-toggleable__label sk-toggleable__label-arrow\">estimator: XGBClassifier</label><div class=\"sk-toggleable__content\"><pre>XGBClassifier(base_score=None, booster=None, callbacks=None,\n",
              "              colsample_bylevel=None, colsample_bynode=None,\n",
              "              colsample_bytree=None, device=None, early_stopping_rounds=None,\n",
              "              enable_categorical=False, eval_metric=None, feature_types=None,\n",
              "              gamma=None, grow_policy=None, importance_type=None,\n",
              "              interaction_constraints=None, learning_rate=None, max_bin=None,\n",
              "              max_cat_threshold=None, max_cat_to_onehot=None,\n",
              "              max_delta_step=None, max_depth=None, max_leaves=None,\n",
              "              min_child_weight=None, missing=nan, monotone_constraints=None,\n",
              "              multi_strategy=None, n_estimators=None, n_jobs=None,\n",
              "              num_parallel_tree=None, random_state=None, ...)</pre></div></div></div><div class=\"sk-serial\"><div class=\"sk-item\"><div class=\"sk-estimator sk-toggleable\"><input class=\"sk-toggleable__control sk-hidden--visually\" id=\"sk-estimator-id-12\" type=\"checkbox\" ><label for=\"sk-estimator-id-12\" class=\"sk-toggleable__label sk-toggleable__label-arrow\">XGBClassifier</label><div class=\"sk-toggleable__content\"><pre>XGBClassifier(base_score=None, booster=None, callbacks=None,\n",
              "              colsample_bylevel=None, colsample_bynode=None,\n",
              "              colsample_bytree=None, device=None, early_stopping_rounds=None,\n",
              "              enable_categorical=False, eval_metric=None, feature_types=None,\n",
              "              gamma=None, grow_policy=None, importance_type=None,\n",
              "              interaction_constraints=None, learning_rate=None, max_bin=None,\n",
              "              max_cat_threshold=None, max_cat_to_onehot=None,\n",
              "              max_delta_step=None, max_depth=None, max_leaves=None,\n",
              "              min_child_weight=None, missing=nan, monotone_constraints=None,\n",
              "              multi_strategy=None, n_estimators=None, n_jobs=None,\n",
              "              num_parallel_tree=None, random_state=None, ...)</pre></div></div></div></div></div></div></div></div></div></div>"
            ]
          },
          "metadata": {},
          "execution_count": 104
        }
      ]
    },
    {
      "cell_type": "code",
      "source": [
        "BestXGBoost.best_params_"
      ],
      "metadata": {
        "colab": {
          "base_uri": "https://localhost:8080/"
        },
        "id": "E4wufqdaM5RS",
        "outputId": "f360c1c6-32e0-491f-ca4c-0f37d3cb38f0"
      },
      "execution_count": null,
      "outputs": [
        {
          "output_type": "execute_result",
          "data": {
            "text/plain": [
              "{'learning_rate': 0.08, 'max_depth': 3, 'n_estimators': 200}"
            ]
          },
          "metadata": {},
          "execution_count": 105
        }
      ]
    },
    {
      "cell_type": "code",
      "source": [
        "BestXGBoost.best_score_"
      ],
      "metadata": {
        "colab": {
          "base_uri": "https://localhost:8080/"
        },
        "id": "iSVCo8l6NnXQ",
        "outputId": "9c92e2c3-b677-40a9-8f3b-4c85794b6296"
      },
      "execution_count": null,
      "outputs": [
        {
          "output_type": "execute_result",
          "data": {
            "text/plain": [
              "0.8275717310046209"
            ]
          },
          "metadata": {},
          "execution_count": 106
        }
      ]
    },
    {
      "cell_type": "code",
      "source": [
        "y_BestXGBpred_valid = BestXGBoost.predict(X_valid)"
      ],
      "metadata": {
        "id": "MqQVdKVpjccF"
      },
      "execution_count": null,
      "outputs": []
    },
    {
      "cell_type": "code",
      "source": [
        "print(confusion_matrix(y_valid, y_BestXGBpred_valid))\n",
        "print(pd.DataFrame(classification_report(\n",
        "    y_valid, y_BestXGBpred_valid, labels = None,\n",
        "    target_names = ['no aki', 'aki'], sample_weight = None,\n",
        "    digits = 2, output_dict = True)).round(2))"
      ],
      "metadata": {
        "colab": {
          "base_uri": "https://localhost:8080/"
        },
        "id": "Ttj1waxmkSlc",
        "outputId": "4846ab0c-8b8e-41eb-c385-70abf36d5495"
      },
      "execution_count": null,
      "outputs": [
        {
          "output_type": "stream",
          "name": "stdout",
          "text": [
            "[[ 961 1590]\n",
            " [ 581 4981]]\n",
            "            no aki      aki  accuracy  macro avg  weighted avg\n",
            "precision     0.62     0.76      0.73       0.69          0.72\n",
            "recall        0.38     0.90      0.73       0.64          0.73\n",
            "f1-score      0.47     0.82      0.73       0.65          0.71\n",
            "support    2551.00  5562.00      0.73    8113.00       8113.00\n"
          ]
        }
      ]
    },
    {
      "cell_type": "code",
      "source": [
        "# SVM\n",
        "svm_param = {\n",
        "    'C': [0.1, 1, 10],\n",
        "    # 'kernel': ['linear', 'rbf']\n",
        "    }"
      ],
      "metadata": {
        "id": "GN7nJN7XktQD"
      },
      "execution_count": null,
      "outputs": []
    },
    {
      "cell_type": "code",
      "source": [
        "SVCModel = SVC(class_weight = 'balanced', kernal = 'rbf')\n",
        "BestSVC = GridSearchCV(\n",
        "    SVCModel,\n",
        "    param_grid = svm_param,\n",
        "    scoring = 'f1',\n",
        "    cv = stratifiedCV,\n",
        "    verbose = 1,\n",
        "    n_jobs = -1\n",
        ")\n",
        "BestSVC.fit(X_train, y_train)"
      ],
      "metadata": {
        "colab": {
          "base_uri": "https://localhost:8080/",
          "height": 339
        },
        "id": "5uk305dMlySy",
        "outputId": "1405156b-695f-4464-f0b1-b5ed34f2e5e3"
      },
      "execution_count": null,
      "outputs": [
        {
          "output_type": "stream",
          "name": "stdout",
          "text": [
            "Fitting 5 folds for each of 6 candidates, totalling 30 fits\n"
          ]
        },
        {
          "output_type": "error",
          "ename": "KeyboardInterrupt",
          "evalue": "",
          "traceback": [
            "\u001b[0;31m---------------------------------------------------------------------------\u001b[0m",
            "\u001b[0;31mKeyboardInterrupt\u001b[0m                         Traceback (most recent call last)",
            "\u001b[0;32m<ipython-input-117-8782fc474e86>\u001b[0m in \u001b[0;36m<cell line: 11>\u001b[0;34m()\u001b[0m\n\u001b[1;32m      9\u001b[0m     \u001b[0mn_jobs\u001b[0m \u001b[0;34m=\u001b[0m \u001b[0;34m-\u001b[0m\u001b[0;36m1\u001b[0m\u001b[0;34m\u001b[0m\u001b[0;34m\u001b[0m\u001b[0m\n\u001b[1;32m     10\u001b[0m )\n\u001b[0;32m---> 11\u001b[0;31m \u001b[0mBestSVC\u001b[0m\u001b[0;34m.\u001b[0m\u001b[0mfit\u001b[0m\u001b[0;34m(\u001b[0m\u001b[0mX_train\u001b[0m\u001b[0;34m,\u001b[0m \u001b[0my_train\u001b[0m\u001b[0;34m)\u001b[0m\u001b[0;34m\u001b[0m\u001b[0;34m\u001b[0m\u001b[0m\n\u001b[0m",
            "\u001b[0;32m/usr/local/lib/python3.10/dist-packages/sklearn/model_selection/_search.py\u001b[0m in \u001b[0;36mfit\u001b[0;34m(self, X, y, groups, **fit_params)\u001b[0m\n\u001b[1;32m    872\u001b[0m                 \u001b[0;32mreturn\u001b[0m \u001b[0mresults\u001b[0m\u001b[0;34m\u001b[0m\u001b[0;34m\u001b[0m\u001b[0m\n\u001b[1;32m    873\u001b[0m \u001b[0;34m\u001b[0m\u001b[0m\n\u001b[0;32m--> 874\u001b[0;31m             \u001b[0mself\u001b[0m\u001b[0;34m.\u001b[0m\u001b[0m_run_search\u001b[0m\u001b[0;34m(\u001b[0m\u001b[0mevaluate_candidates\u001b[0m\u001b[0;34m)\u001b[0m\u001b[0;34m\u001b[0m\u001b[0;34m\u001b[0m\u001b[0m\n\u001b[0m\u001b[1;32m    875\u001b[0m \u001b[0;34m\u001b[0m\u001b[0m\n\u001b[1;32m    876\u001b[0m             \u001b[0;31m# multimetric is determined here because in the case of a callable\u001b[0m\u001b[0;34m\u001b[0m\u001b[0;34m\u001b[0m\u001b[0m\n",
            "\u001b[0;32m/usr/local/lib/python3.10/dist-packages/sklearn/model_selection/_search.py\u001b[0m in \u001b[0;36m_run_search\u001b[0;34m(self, evaluate_candidates)\u001b[0m\n\u001b[1;32m   1386\u001b[0m     \u001b[0;32mdef\u001b[0m \u001b[0m_run_search\u001b[0m\u001b[0;34m(\u001b[0m\u001b[0mself\u001b[0m\u001b[0;34m,\u001b[0m \u001b[0mevaluate_candidates\u001b[0m\u001b[0;34m)\u001b[0m\u001b[0;34m:\u001b[0m\u001b[0;34m\u001b[0m\u001b[0;34m\u001b[0m\u001b[0m\n\u001b[1;32m   1387\u001b[0m         \u001b[0;34m\"\"\"Search all candidates in param_grid\"\"\"\u001b[0m\u001b[0;34m\u001b[0m\u001b[0;34m\u001b[0m\u001b[0m\n\u001b[0;32m-> 1388\u001b[0;31m         \u001b[0mevaluate_candidates\u001b[0m\u001b[0;34m(\u001b[0m\u001b[0mParameterGrid\u001b[0m\u001b[0;34m(\u001b[0m\u001b[0mself\u001b[0m\u001b[0;34m.\u001b[0m\u001b[0mparam_grid\u001b[0m\u001b[0;34m)\u001b[0m\u001b[0;34m)\u001b[0m\u001b[0;34m\u001b[0m\u001b[0;34m\u001b[0m\u001b[0m\n\u001b[0m\u001b[1;32m   1389\u001b[0m \u001b[0;34m\u001b[0m\u001b[0m\n\u001b[1;32m   1390\u001b[0m \u001b[0;34m\u001b[0m\u001b[0m\n",
            "\u001b[0;32m/usr/local/lib/python3.10/dist-packages/sklearn/model_selection/_search.py\u001b[0m in \u001b[0;36mevaluate_candidates\u001b[0;34m(candidate_params, cv, more_results)\u001b[0m\n\u001b[1;32m    819\u001b[0m                     )\n\u001b[1;32m    820\u001b[0m \u001b[0;34m\u001b[0m\u001b[0m\n\u001b[0;32m--> 821\u001b[0;31m                 out = parallel(\n\u001b[0m\u001b[1;32m    822\u001b[0m                     delayed(_fit_and_score)(\n\u001b[1;32m    823\u001b[0m                         \u001b[0mclone\u001b[0m\u001b[0;34m(\u001b[0m\u001b[0mbase_estimator\u001b[0m\u001b[0;34m)\u001b[0m\u001b[0;34m,\u001b[0m\u001b[0;34m\u001b[0m\u001b[0;34m\u001b[0m\u001b[0m\n",
            "\u001b[0;32m/usr/local/lib/python3.10/dist-packages/sklearn/utils/parallel.py\u001b[0m in \u001b[0;36m__call__\u001b[0;34m(self, iterable)\u001b[0m\n\u001b[1;32m     61\u001b[0m             \u001b[0;32mfor\u001b[0m \u001b[0mdelayed_func\u001b[0m\u001b[0;34m,\u001b[0m \u001b[0margs\u001b[0m\u001b[0;34m,\u001b[0m \u001b[0mkwargs\u001b[0m \u001b[0;32min\u001b[0m \u001b[0miterable\u001b[0m\u001b[0;34m\u001b[0m\u001b[0;34m\u001b[0m\u001b[0m\n\u001b[1;32m     62\u001b[0m         )\n\u001b[0;32m---> 63\u001b[0;31m         \u001b[0;32mreturn\u001b[0m \u001b[0msuper\u001b[0m\u001b[0;34m(\u001b[0m\u001b[0;34m)\u001b[0m\u001b[0;34m.\u001b[0m\u001b[0m__call__\u001b[0m\u001b[0;34m(\u001b[0m\u001b[0miterable_with_config\u001b[0m\u001b[0;34m)\u001b[0m\u001b[0;34m\u001b[0m\u001b[0;34m\u001b[0m\u001b[0m\n\u001b[0m\u001b[1;32m     64\u001b[0m \u001b[0;34m\u001b[0m\u001b[0m\n\u001b[1;32m     65\u001b[0m \u001b[0;34m\u001b[0m\u001b[0m\n",
            "\u001b[0;32m/usr/local/lib/python3.10/dist-packages/joblib/parallel.py\u001b[0m in \u001b[0;36m__call__\u001b[0;34m(self, iterable)\u001b[0m\n\u001b[1;32m   1950\u001b[0m         \u001b[0mnext\u001b[0m\u001b[0;34m(\u001b[0m\u001b[0moutput\u001b[0m\u001b[0;34m)\u001b[0m\u001b[0;34m\u001b[0m\u001b[0;34m\u001b[0m\u001b[0m\n\u001b[1;32m   1951\u001b[0m \u001b[0;34m\u001b[0m\u001b[0m\n\u001b[0;32m-> 1952\u001b[0;31m         \u001b[0;32mreturn\u001b[0m \u001b[0moutput\u001b[0m \u001b[0;32mif\u001b[0m \u001b[0mself\u001b[0m\u001b[0;34m.\u001b[0m\u001b[0mreturn_generator\u001b[0m \u001b[0;32melse\u001b[0m \u001b[0mlist\u001b[0m\u001b[0;34m(\u001b[0m\u001b[0moutput\u001b[0m\u001b[0;34m)\u001b[0m\u001b[0;34m\u001b[0m\u001b[0;34m\u001b[0m\u001b[0m\n\u001b[0m\u001b[1;32m   1953\u001b[0m \u001b[0;34m\u001b[0m\u001b[0m\n\u001b[1;32m   1954\u001b[0m     \u001b[0;32mdef\u001b[0m \u001b[0m__repr__\u001b[0m\u001b[0;34m(\u001b[0m\u001b[0mself\u001b[0m\u001b[0;34m)\u001b[0m\u001b[0;34m:\u001b[0m\u001b[0;34m\u001b[0m\u001b[0;34m\u001b[0m\u001b[0m\n",
            "\u001b[0;32m/usr/local/lib/python3.10/dist-packages/joblib/parallel.py\u001b[0m in \u001b[0;36m_get_outputs\u001b[0;34m(self, iterator, pre_dispatch)\u001b[0m\n\u001b[1;32m   1593\u001b[0m \u001b[0;34m\u001b[0m\u001b[0m\n\u001b[1;32m   1594\u001b[0m             \u001b[0;32mwith\u001b[0m \u001b[0mself\u001b[0m\u001b[0;34m.\u001b[0m\u001b[0m_backend\u001b[0m\u001b[0;34m.\u001b[0m\u001b[0mretrieval_context\u001b[0m\u001b[0;34m(\u001b[0m\u001b[0;34m)\u001b[0m\u001b[0;34m:\u001b[0m\u001b[0;34m\u001b[0m\u001b[0;34m\u001b[0m\u001b[0m\n\u001b[0;32m-> 1595\u001b[0;31m                 \u001b[0;32myield\u001b[0m \u001b[0;32mfrom\u001b[0m \u001b[0mself\u001b[0m\u001b[0;34m.\u001b[0m\u001b[0m_retrieve\u001b[0m\u001b[0;34m(\u001b[0m\u001b[0;34m)\u001b[0m\u001b[0;34m\u001b[0m\u001b[0;34m\u001b[0m\u001b[0m\n\u001b[0m\u001b[1;32m   1596\u001b[0m \u001b[0;34m\u001b[0m\u001b[0m\n\u001b[1;32m   1597\u001b[0m         \u001b[0;32mexcept\u001b[0m \u001b[0mGeneratorExit\u001b[0m\u001b[0;34m:\u001b[0m\u001b[0;34m\u001b[0m\u001b[0;34m\u001b[0m\u001b[0m\n",
            "\u001b[0;32m/usr/local/lib/python3.10/dist-packages/joblib/parallel.py\u001b[0m in \u001b[0;36m_retrieve\u001b[0;34m(self)\u001b[0m\n\u001b[1;32m   1705\u001b[0m                 (self._jobs[0].get_status(\n\u001b[1;32m   1706\u001b[0m                     timeout=self.timeout) == TASK_PENDING)):\n\u001b[0;32m-> 1707\u001b[0;31m                 \u001b[0mtime\u001b[0m\u001b[0;34m.\u001b[0m\u001b[0msleep\u001b[0m\u001b[0;34m(\u001b[0m\u001b[0;36m0.01\u001b[0m\u001b[0;34m)\u001b[0m\u001b[0;34m\u001b[0m\u001b[0;34m\u001b[0m\u001b[0m\n\u001b[0m\u001b[1;32m   1708\u001b[0m                 \u001b[0;32mcontinue\u001b[0m\u001b[0;34m\u001b[0m\u001b[0;34m\u001b[0m\u001b[0m\n\u001b[1;32m   1709\u001b[0m \u001b[0;34m\u001b[0m\u001b[0m\n",
            "\u001b[0;31mKeyboardInterrupt\u001b[0m: "
          ]
        }
      ]
    },
    {
      "cell_type": "code",
      "source": [
        "BestSVC.best_estimator_"
      ],
      "metadata": {
        "id": "1cNID1nUnl7F"
      },
      "execution_count": null,
      "outputs": []
    },
    {
      "cell_type": "code",
      "source": [
        "BestSVC.best_score_"
      ],
      "metadata": {
        "id": "Obf6zXdXnppV"
      },
      "execution_count": null,
      "outputs": []
    },
    {
      "cell_type": "code",
      "source": [
        "y_BestSVCpred_valid = BestSVC.predict(X_valid)\n",
        "print(confusion_matrix(y_valid, y_BestSVCpred_valid))\n",
        "print(pd.DataFrame(classification_report(\n",
        "    y_valid, y_BestSVCpred_valid, labels = None,\n",
        "    target_names = ['no aki', 'aki'], sample_weight = None,\n",
        "    digits = 2, output_dict = True)).round(2))"
      ],
      "metadata": {
        "id": "Z7XdA59enszm"
      },
      "execution_count": null,
      "outputs": []
    }
  ]
}